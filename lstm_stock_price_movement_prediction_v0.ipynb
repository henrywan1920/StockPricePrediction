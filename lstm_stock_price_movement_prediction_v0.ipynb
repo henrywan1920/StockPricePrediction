{
 "cells": [
  {
   "cell_type": "markdown",
   "metadata": {
    "_uuid": "1e03cc79a080a33c1121f846916ce5038153a7ae",
    "id": "uaTzMK4Sfkln"
   },
   "source": [
    "### To predict the movement of stock prices, LSTM model is used. Here, we are only predicting the movement of closing price but the similar approach can be followed for other columns as well.\n",
    "### The model is trained on the stock prices of AAL company which is then tested on other companies.\n",
    "### As this is a time series prediction, we are considering the prices of past 60 days to predict the future price. "
   ]
  },
  {
   "cell_type": "code",
   "execution_count": null,
   "metadata": {
    "id": "O5U7WRN9gAzA"
   },
   "outputs": [],
   "source": []
  },
  {
   "cell_type": "code",
   "execution_count": null,
   "metadata": {
    "_cell_guid": "b1076dfc-b9ad-4769-8c92-a6c4dae69d19",
    "_uuid": "8f2839f25d086af736a60e9eeb907d3b93b6e0e5",
    "execution": {
     "iopub.execute_input": "2022-05-28T20:51:40.887467Z",
     "iopub.status.busy": "2022-05-28T20:51:40.887175Z",
     "iopub.status.idle": "2022-05-28T20:51:40.893268Z",
     "shell.execute_reply": "2022-05-28T20:51:40.890922Z",
     "shell.execute_reply.started": "2022-05-28T20:51:40.887417Z"
    },
    "id": "uvvEgcHsfkln"
   },
   "outputs": [],
   "source": [
    "# importing libraries\n",
    "import numpy as np\n",
    "import pandas as pd\n",
    "import matplotlib.pyplot as plt"
   ]
  },
  {
   "cell_type": "code",
   "execution_count": null,
   "metadata": {
    "_cell_guid": "79c7e3d0-c299-4dcb-8224-4455121ee9b0",
    "_uuid": "d629ff2d2480ee46fbb7e2d37f6b5fab8052498a",
    "execution": {
     "iopub.execute_input": "2022-05-28T20:51:40.913233Z",
     "iopub.status.busy": "2022-05-28T20:51:40.913025Z",
     "iopub.status.idle": "2022-05-28T20:51:42.022925Z",
     "shell.execute_reply": "2022-05-28T20:51:42.022170Z",
     "shell.execute_reply.started": "2022-05-28T20:51:40.913191Z"
    },
    "id": "B3imfdFdfklo"
   },
   "outputs": [],
   "source": [
    "# loading the stock prices of all companies in a dataframe\n",
    "dataset = pd.read_csv('/content/all_stocks_5yr.csv')"
   ]
  },
  {
   "cell_type": "code",
   "execution_count": null,
   "metadata": {
    "_uuid": "a799b504b96cf24f2416604a1ea0e50dc5f4a5bf",
    "colab": {
     "base_uri": "https://localhost:8080/",
     "height": 206
    },
    "execution": {
     "iopub.execute_input": "2022-05-28T20:51:42.024058Z",
     "iopub.status.busy": "2022-05-28T20:51:42.023835Z",
     "iopub.status.idle": "2022-05-28T20:51:42.045699Z",
     "shell.execute_reply": "2022-05-28T20:51:42.044960Z",
     "shell.execute_reply.started": "2022-05-28T20:51:42.024019Z"
    },
    "id": "chiTjzu8fklo",
    "outputId": "53488fab-fc5b-4623-d3ce-c58ba0a5055a"
   },
   "outputs": [
    {
     "data": {
      "text/html": [
       "\n",
       "  <div id=\"df-44d2fe53-ad11-475b-91f6-d718ad113afb\">\n",
       "    <div class=\"colab-df-container\">\n",
       "      <div>\n",
       "<style scoped>\n",
       "    .dataframe tbody tr th:only-of-type {\n",
       "        vertical-align: middle;\n",
       "    }\n",
       "\n",
       "    .dataframe tbody tr th {\n",
       "        vertical-align: top;\n",
       "    }\n",
       "\n",
       "    .dataframe thead th {\n",
       "        text-align: right;\n",
       "    }\n",
       "</style>\n",
       "<table border=\"1\" class=\"dataframe\">\n",
       "  <thead>\n",
       "    <tr style=\"text-align: right;\">\n",
       "      <th></th>\n",
       "      <th>date</th>\n",
       "      <th>open</th>\n",
       "      <th>high</th>\n",
       "      <th>low</th>\n",
       "      <th>close</th>\n",
       "      <th>volume</th>\n",
       "      <th>Name</th>\n",
       "    </tr>\n",
       "  </thead>\n",
       "  <tbody>\n",
       "    <tr>\n",
       "      <th>0</th>\n",
       "      <td>2013-02-08</td>\n",
       "      <td>15.07</td>\n",
       "      <td>15.12</td>\n",
       "      <td>14.63</td>\n",
       "      <td>14.75</td>\n",
       "      <td>8407500</td>\n",
       "      <td>AAL</td>\n",
       "    </tr>\n",
       "    <tr>\n",
       "      <th>1</th>\n",
       "      <td>2013-02-11</td>\n",
       "      <td>14.89</td>\n",
       "      <td>15.01</td>\n",
       "      <td>14.26</td>\n",
       "      <td>14.46</td>\n",
       "      <td>8882000</td>\n",
       "      <td>AAL</td>\n",
       "    </tr>\n",
       "    <tr>\n",
       "      <th>2</th>\n",
       "      <td>2013-02-12</td>\n",
       "      <td>14.45</td>\n",
       "      <td>14.51</td>\n",
       "      <td>14.10</td>\n",
       "      <td>14.27</td>\n",
       "      <td>8126000</td>\n",
       "      <td>AAL</td>\n",
       "    </tr>\n",
       "    <tr>\n",
       "      <th>3</th>\n",
       "      <td>2013-02-13</td>\n",
       "      <td>14.30</td>\n",
       "      <td>14.94</td>\n",
       "      <td>14.25</td>\n",
       "      <td>14.66</td>\n",
       "      <td>10259500</td>\n",
       "      <td>AAL</td>\n",
       "    </tr>\n",
       "    <tr>\n",
       "      <th>4</th>\n",
       "      <td>2013-02-14</td>\n",
       "      <td>14.94</td>\n",
       "      <td>14.96</td>\n",
       "      <td>13.16</td>\n",
       "      <td>13.99</td>\n",
       "      <td>31879900</td>\n",
       "      <td>AAL</td>\n",
       "    </tr>\n",
       "  </tbody>\n",
       "</table>\n",
       "</div>\n",
       "      <button class=\"colab-df-convert\" onclick=\"convertToInteractive('df-44d2fe53-ad11-475b-91f6-d718ad113afb')\"\n",
       "              title=\"Convert this dataframe to an interactive table.\"\n",
       "              style=\"display:none;\">\n",
       "        \n",
       "  <svg xmlns=\"http://www.w3.org/2000/svg\" height=\"24px\"viewBox=\"0 0 24 24\"\n",
       "       width=\"24px\">\n",
       "    <path d=\"M0 0h24v24H0V0z\" fill=\"none\"/>\n",
       "    <path d=\"M18.56 5.44l.94 2.06.94-2.06 2.06-.94-2.06-.94-.94-2.06-.94 2.06-2.06.94zm-11 1L8.5 8.5l.94-2.06 2.06-.94-2.06-.94L8.5 2.5l-.94 2.06-2.06.94zm10 10l.94 2.06.94-2.06 2.06-.94-2.06-.94-.94-2.06-.94 2.06-2.06.94z\"/><path d=\"M17.41 7.96l-1.37-1.37c-.4-.4-.92-.59-1.43-.59-.52 0-1.04.2-1.43.59L10.3 9.45l-7.72 7.72c-.78.78-.78 2.05 0 2.83L4 21.41c.39.39.9.59 1.41.59.51 0 1.02-.2 1.41-.59l7.78-7.78 2.81-2.81c.8-.78.8-2.07 0-2.86zM5.41 20L4 18.59l7.72-7.72 1.47 1.35L5.41 20z\"/>\n",
       "  </svg>\n",
       "      </button>\n",
       "      \n",
       "  <style>\n",
       "    .colab-df-container {\n",
       "      display:flex;\n",
       "      flex-wrap:wrap;\n",
       "      gap: 12px;\n",
       "    }\n",
       "\n",
       "    .colab-df-convert {\n",
       "      background-color: #E8F0FE;\n",
       "      border: none;\n",
       "      border-radius: 50%;\n",
       "      cursor: pointer;\n",
       "      display: none;\n",
       "      fill: #1967D2;\n",
       "      height: 32px;\n",
       "      padding: 0 0 0 0;\n",
       "      width: 32px;\n",
       "    }\n",
       "\n",
       "    .colab-df-convert:hover {\n",
       "      background-color: #E2EBFA;\n",
       "      box-shadow: 0px 1px 2px rgba(60, 64, 67, 0.3), 0px 1px 3px 1px rgba(60, 64, 67, 0.15);\n",
       "      fill: #174EA6;\n",
       "    }\n",
       "\n",
       "    [theme=dark] .colab-df-convert {\n",
       "      background-color: #3B4455;\n",
       "      fill: #D2E3FC;\n",
       "    }\n",
       "\n",
       "    [theme=dark] .colab-df-convert:hover {\n",
       "      background-color: #434B5C;\n",
       "      box-shadow: 0px 1px 3px 1px rgba(0, 0, 0, 0.15);\n",
       "      filter: drop-shadow(0px 1px 2px rgba(0, 0, 0, 0.3));\n",
       "      fill: #FFFFFF;\n",
       "    }\n",
       "  </style>\n",
       "\n",
       "      <script>\n",
       "        const buttonEl =\n",
       "          document.querySelector('#df-44d2fe53-ad11-475b-91f6-d718ad113afb button.colab-df-convert');\n",
       "        buttonEl.style.display =\n",
       "          google.colab.kernel.accessAllowed ? 'block' : 'none';\n",
       "\n",
       "        async function convertToInteractive(key) {\n",
       "          const element = document.querySelector('#df-44d2fe53-ad11-475b-91f6-d718ad113afb');\n",
       "          const dataTable =\n",
       "            await google.colab.kernel.invokeFunction('convertToInteractive',\n",
       "                                                     [key], {});\n",
       "          if (!dataTable) return;\n",
       "\n",
       "          const docLinkHtml = 'Like what you see? Visit the ' +\n",
       "            '<a target=\"_blank\" href=https://colab.research.google.com/notebooks/data_table.ipynb>data table notebook</a>'\n",
       "            + ' to learn more about interactive tables.';\n",
       "          element.innerHTML = '';\n",
       "          dataTable['output_type'] = 'display_data';\n",
       "          await google.colab.output.renderOutput(dataTable, element);\n",
       "          const docLink = document.createElement('div');\n",
       "          docLink.innerHTML = docLinkHtml;\n",
       "          element.appendChild(docLink);\n",
       "        }\n",
       "      </script>\n",
       "    </div>\n",
       "  </div>\n",
       "  "
      ],
      "text/plain": [
       "         date   open   high    low  close    volume Name\n",
       "0  2013-02-08  15.07  15.12  14.63  14.75   8407500  AAL\n",
       "1  2013-02-11  14.89  15.01  14.26  14.46   8882000  AAL\n",
       "2  2013-02-12  14.45  14.51  14.10  14.27   8126000  AAL\n",
       "3  2013-02-13  14.30  14.94  14.25  14.66  10259500  AAL\n",
       "4  2013-02-14  14.94  14.96  13.16  13.99  31879900  AAL"
      ]
     },
     "execution_count": 14,
     "metadata": {},
     "output_type": "execute_result"
    }
   ],
   "source": [
    "dataset.head()"
   ]
  },
  {
   "cell_type": "code",
   "execution_count": null,
   "metadata": {
    "_uuid": "9493d9c91844fc875d2331744ed1199335f65a83",
    "colab": {
     "base_uri": "https://localhost:8080/"
    },
    "execution": {
     "iopub.execute_input": "2022-05-28T20:51:42.047740Z",
     "iopub.status.busy": "2022-05-28T20:51:42.047252Z",
     "iopub.status.idle": "2022-05-28T20:51:42.228317Z",
     "shell.execute_reply": "2022-05-28T20:51:42.227513Z",
     "shell.execute_reply.started": "2022-05-28T20:51:42.047690Z"
    },
    "id": "Fa2w52mAfklo",
    "outputId": "d3b74119-e2a9-4aa7-a489-ccbd5ffe3333"
   },
   "outputs": [
    {
     "name": "stdout",
     "output_type": "stream",
     "text": [
      "<class 'pandas.core.frame.DataFrame'>\n",
      "RangeIndex: 619040 entries, 0 to 619039\n",
      "Data columns (total 7 columns):\n",
      " #   Column  Non-Null Count   Dtype  \n",
      "---  ------  --------------   -----  \n",
      " 0   date    619040 non-null  object \n",
      " 1   open    619029 non-null  float64\n",
      " 2   high    619032 non-null  float64\n",
      " 3   low     619032 non-null  float64\n",
      " 4   close   619040 non-null  float64\n",
      " 5   volume  619040 non-null  int64  \n",
      " 6   Name    619040 non-null  object \n",
      "dtypes: float64(4), int64(1), object(2)\n",
      "memory usage: 33.1+ MB\n"
     ]
    }
   ],
   "source": [
    "dataset.info()"
   ]
  },
  {
   "cell_type": "code",
   "execution_count": null,
   "metadata": {
    "_uuid": "2873bdcb413d542580682d4e28e41823756a7aeb",
    "colab": {
     "base_uri": "https://localhost:8080/"
    },
    "execution": {
     "iopub.execute_input": "2022-05-28T20:51:42.229757Z",
     "iopub.status.busy": "2022-05-28T20:51:42.229491Z",
     "iopub.status.idle": "2022-05-28T20:51:42.259636Z",
     "shell.execute_reply": "2022-05-28T20:51:42.258903Z",
     "shell.execute_reply.started": "2022-05-28T20:51:42.229713Z"
    },
    "id": "neo0m24kfklo",
    "outputId": "6bc60161-f2b7-4649-c329-4d9c59458f48",
    "scrolled": true
   },
   "outputs": [
    {
     "data": {
      "text/plain": [
       "array(['AAL', 'AAPL', 'AAP', 'ABBV', 'ABC', 'ABT', 'ACN', 'ADBE', 'ADI',\n",
       "       'ADM', 'ADP', 'ADSK', 'ADS', 'AEE', 'AEP', 'AES', 'AET', 'AFL',\n",
       "       'AGN', 'AIG', 'AIV', 'AIZ', 'AJG', 'AKAM', 'ALB', 'ALGN', 'ALK',\n",
       "       'ALLE', 'ALL', 'ALXN', 'AMAT', 'AMD', 'AME', 'AMGN', 'AMG', 'AMP',\n",
       "       'AMT', 'AMZN', 'ANDV', 'ANSS', 'ANTM', 'AON', 'AOS', 'APA', 'APC',\n",
       "       'APD', 'APH', 'APTV', 'ARE', 'ARNC', 'ATVI', 'AVB', 'AVGO', 'AVY',\n",
       "       'AWK', 'AXP', 'AYI', 'AZO', 'A', 'BAC', 'BAX', 'BA', 'BBT', 'BBY',\n",
       "       'BDX', 'BEN', 'BF.B', 'BHF', 'BHGE', 'BIIB', 'BK', 'BLK', 'BLL',\n",
       "       'BMY', 'BRK.B', 'BSX', 'BWA', 'BXP', 'CAG', 'CAH', 'CAT', 'CA',\n",
       "       'CBG', 'CBOE', 'CBS', 'CB', 'CCI', 'CCL', 'CDNS', 'CELG', 'CERN',\n",
       "       'CFG', 'CF', 'CHD', 'CHK', 'CHRW', 'CHTR', 'CINF', 'CI', 'CLX',\n",
       "       'CL', 'CMA', 'CMCSA', 'CME', 'CMG', 'CMI', 'CMS', 'CNC', 'CNP',\n",
       "       'COF', 'COG', 'COL', 'COO', 'COP', 'COST', 'COTY', 'CPB', 'CRM',\n",
       "       'CSCO', 'CSRA', 'CSX', 'CTAS', 'CTL', 'CTSH', 'CTXS', 'CVS', 'CVX',\n",
       "       'CXO', 'C', 'DAL', 'DE', 'DFS', 'DGX', 'DG', 'DHI', 'DHR', 'DISCA',\n",
       "       'DISCK', 'DISH', 'DIS', 'DLR', 'DLTR', 'DOV', 'DPS', 'DRE', 'DRI',\n",
       "       'DTE', 'DUK', 'DVA', 'DVN', 'DWDP', 'DXC', 'D', 'EA', 'EBAY',\n",
       "       'ECL', 'ED', 'EFX', 'EIX', 'EL', 'EMN', 'EMR', 'EOG', 'EQIX',\n",
       "       'EQR', 'EQT', 'ESRX', 'ESS', 'ES', 'ETFC', 'ETN', 'ETR', 'EVHC',\n",
       "       'EW', 'EXC', 'EXPD', 'EXPE', 'EXR', 'FAST', 'FBHS', 'FB', 'FCX',\n",
       "       'FDX', 'FE', 'FFIV', 'FISV', 'FIS', 'FITB', 'FLIR', 'FLR', 'FLS',\n",
       "       'FL', 'FMC', 'FOXA', 'FOX', 'FRT', 'FTI', 'FTV', 'F', 'GD', 'GE',\n",
       "       'GGP', 'GILD', 'GIS', 'GLW', 'GM', 'GOOGL', 'GOOG', 'GPC', 'GPN',\n",
       "       'GPS', 'GRMN', 'GS', 'GT', 'GWW', 'HAL', 'HAS', 'HBAN', 'HBI',\n",
       "       'HCA', 'HCN', 'HCP', 'HD', 'HES', 'HIG', 'HII', 'HLT', 'HOG',\n",
       "       'HOLX', 'HON', 'HPE', 'HPQ', 'HP', 'HRB', 'HRL', 'HRS', 'HSIC',\n",
       "       'HST', 'HSY', 'HUM', 'IBM', 'ICE', 'IDXX', 'IFF', 'ILMN', 'INCY',\n",
       "       'INFO', 'INTC', 'INTU', 'IPG', 'IP', 'IQV', 'IRM', 'IR', 'ISRG',\n",
       "       'ITW', 'IT', 'IVZ', 'JBHT', 'JCI', 'JEC', 'JNJ', 'JNPR', 'JPM',\n",
       "       'JWN', 'KEY', 'KHC', 'KIM', 'KLAC', 'KMB', 'KMI', 'KMX', 'KORS',\n",
       "       'KO', 'KR', 'KSS', 'KSU', 'K', 'LB', 'LEG', 'LEN', 'LH', 'LKQ',\n",
       "       'LLL', 'LLY', 'LMT', 'LNC', 'LNT', 'LOW', 'LRCX', 'LUK', 'LUV',\n",
       "       'LYB', 'L', 'MAA', 'MAC', 'MAR', 'MAS', 'MAT', 'MA', 'MCD', 'MCHP',\n",
       "       'MCK', 'MCO', 'MDLZ', 'MDT', 'MET', 'MGM', 'MHK', 'MKC', 'MLM',\n",
       "       'MMC', 'MMM', 'MNST', 'MON', 'MOS', 'MO', 'MPC', 'MRK', 'MRO',\n",
       "       'MSFT', 'MSI', 'MS', 'MTB', 'MTD', 'MU', 'MYL', 'M', 'NAVI', 'NBL',\n",
       "       'NCLH', 'NDAQ', 'NEE', 'NEM', 'NFLX', 'NFX', 'NI', 'NKE', 'NLSN',\n",
       "       'NOC', 'NOV', 'NRG', 'NSC', 'NTAP', 'NTRS', 'NUE', 'NVDA', 'NWL',\n",
       "       'NWSA', 'NWS', 'OKE', 'OMC', 'ORCL', 'ORLY', 'OXY', 'O', 'PAYX',\n",
       "       'PBCT', 'PCAR', 'PCG', 'PCLN', 'PDCO', 'PEG', 'PEP', 'PFE', 'PFG',\n",
       "       'PGR', 'PG', 'PHM', 'PH', 'PKG', 'PKI', 'PLD', 'PM', 'PNC', 'PNR',\n",
       "       'PNW', 'PPG', 'PPL', 'PRGO', 'PRU', 'PSA', 'PSX', 'PVH', 'PWR',\n",
       "       'PXD', 'PX', 'PYPL', 'QCOM', 'QRVO', 'RCL', 'REGN', 'REG', 'RE',\n",
       "       'RF', 'RHI', 'RHT', 'RJF', 'RL', 'RMD', 'ROK', 'ROP', 'ROST',\n",
       "       'RRC', 'RSG', 'RTN', 'SBAC', 'SBUX', 'SCG', 'SCHW', 'SEE', 'SHW',\n",
       "       'SIG', 'SJM', 'SLB', 'SLG', 'SNA', 'SNI', 'SNPS', 'SO', 'SPGI',\n",
       "       'SPG', 'SRCL', 'SRE', 'STI', 'STT', 'STX', 'STZ', 'SWKS', 'SWK',\n",
       "       'SYF', 'SYK', 'SYMC', 'SYY', 'TAP', 'TDG', 'TEL', 'TGT', 'TIF',\n",
       "       'TJX', 'TMK', 'TMO', 'TPR', 'TRIP', 'TROW', 'TRV', 'TSCO', 'TSN',\n",
       "       'TSS', 'TWX', 'TXN', 'TXT', 'T', 'UAA', 'UAL', 'UA', 'UDR', 'UHS',\n",
       "       'ULTA', 'UNH', 'UNM', 'UNP', 'UPS', 'URI', 'USB', 'UTX', 'VAR',\n",
       "       'VFC', 'VIAB', 'VLO', 'VMC', 'VNO', 'VRSK', 'VRSN', 'VRTX', 'VTR',\n",
       "       'VZ', 'V', 'WAT', 'WBA', 'WDC', 'WEC', 'WFC', 'WHR', 'WLTW', 'WMB',\n",
       "       'WMT', 'WM', 'WRK', 'WU', 'WYNN', 'WYN', 'WY', 'XEC', 'XEL',\n",
       "       'XLNX', 'XL', 'XOM', 'XRAY', 'XRX', 'XYL', 'YUM', 'ZBH', 'ZION',\n",
       "       'ZTS'], dtype=object)"
      ]
     },
     "execution_count": 16,
     "metadata": {},
     "output_type": "execute_result"
    }
   ],
   "source": [
    "# getting the list of all companies \n",
    "companies = dataset.Name.unique()\n",
    "companies"
   ]
  },
  {
   "cell_type": "code",
   "execution_count": null,
   "metadata": {
    "_uuid": "7f706f1ac9af63c7d86f73ad449877287d24cdf8",
    "colab": {
     "base_uri": "https://localhost:8080/"
    },
    "execution": {
     "iopub.execute_input": "2022-05-28T20:51:42.261216Z",
     "iopub.status.busy": "2022-05-28T20:51:42.260921Z",
     "iopub.status.idle": "2022-05-28T20:51:42.386680Z",
     "shell.execute_reply": "2022-05-28T20:51:42.385939Z",
     "shell.execute_reply.started": "2022-05-28T20:51:42.261153Z"
    },
    "id": "kdYVQR8Xfklo",
    "outputId": "e4635ea0-e003-4851-b76e-9248aebaa442"
   },
   "outputs": [
    {
     "name": "stdout",
     "output_type": "stream",
     "text": [
      "<class 'pandas.core.frame.DataFrame'>\n",
      "Int64Index: 1259 entries, 170156 to 171414\n",
      "Data columns (total 7 columns):\n",
      " #   Column  Non-Null Count  Dtype  \n",
      "---  ------  --------------  -----  \n",
      " 0   date    1259 non-null   object \n",
      " 1   open    1259 non-null   float64\n",
      " 2   high    1259 non-null   float64\n",
      " 3   low     1259 non-null   float64\n",
      " 4   close   1259 non-null   float64\n",
      " 5   volume  1259 non-null   int64  \n",
      " 6   Name    1259 non-null   object \n",
      "dtypes: float64(4), int64(1), object(2)\n",
      "memory usage: 78.7+ KB\n"
     ]
    }
   ],
   "source": [
    "# since AAL company is used for training, we are creating a new dataframe with AAL parameters\n",
    "stock = dataset.loc[dataset['Name'] == 'DIS']\n",
    "stock.info()"
   ]
  },
  {
   "cell_type": "code",
   "execution_count": null,
   "metadata": {
    "_uuid": "6d75c5595d282ca210b69df37258a822889aba7b",
    "colab": {
     "base_uri": "https://localhost:8080/",
     "height": 206
    },
    "execution": {
     "iopub.execute_input": "2022-05-28T20:51:42.388319Z",
     "iopub.status.busy": "2022-05-28T20:51:42.388018Z",
     "iopub.status.idle": "2022-05-28T20:51:42.403564Z",
     "shell.execute_reply": "2022-05-28T20:51:42.402826Z",
     "shell.execute_reply.started": "2022-05-28T20:51:42.388255Z"
    },
    "id": "vR_RnBSkfklo",
    "outputId": "3bc15a54-f633-4eb4-b84f-70a7bd4873a8"
   },
   "outputs": [
    {
     "data": {
      "text/html": [
       "\n",
       "  <div id=\"df-939e9f9f-226b-49ac-91f8-17b92f84a5fa\">\n",
       "    <div class=\"colab-df-container\">\n",
       "      <div>\n",
       "<style scoped>\n",
       "    .dataframe tbody tr th:only-of-type {\n",
       "        vertical-align: middle;\n",
       "    }\n",
       "\n",
       "    .dataframe tbody tr th {\n",
       "        vertical-align: top;\n",
       "    }\n",
       "\n",
       "    .dataframe thead th {\n",
       "        text-align: right;\n",
       "    }\n",
       "</style>\n",
       "<table border=\"1\" class=\"dataframe\">\n",
       "  <thead>\n",
       "    <tr style=\"text-align: right;\">\n",
       "      <th></th>\n",
       "      <th>date</th>\n",
       "      <th>open</th>\n",
       "      <th>high</th>\n",
       "      <th>low</th>\n",
       "      <th>close</th>\n",
       "      <th>volume</th>\n",
       "      <th>Name</th>\n",
       "    </tr>\n",
       "  </thead>\n",
       "  <tbody>\n",
       "    <tr>\n",
       "      <th>170156</th>\n",
       "      <td>2013-02-08</td>\n",
       "      <td>54.38</td>\n",
       "      <td>54.72</td>\n",
       "      <td>54.310</td>\n",
       "      <td>54.66</td>\n",
       "      <td>9584224</td>\n",
       "      <td>DIS</td>\n",
       "    </tr>\n",
       "    <tr>\n",
       "      <th>170157</th>\n",
       "      <td>2013-02-11</td>\n",
       "      <td>54.65</td>\n",
       "      <td>54.98</td>\n",
       "      <td>54.590</td>\n",
       "      <td>54.75</td>\n",
       "      <td>6358524</td>\n",
       "      <td>DIS</td>\n",
       "    </tr>\n",
       "    <tr>\n",
       "      <th>170158</th>\n",
       "      <td>2013-02-12</td>\n",
       "      <td>54.77</td>\n",
       "      <td>55.05</td>\n",
       "      <td>54.690</td>\n",
       "      <td>54.95</td>\n",
       "      <td>8758025</td>\n",
       "      <td>DIS</td>\n",
       "    </tr>\n",
       "    <tr>\n",
       "      <th>170159</th>\n",
       "      <td>2013-02-13</td>\n",
       "      <td>55.08</td>\n",
       "      <td>55.30</td>\n",
       "      <td>54.665</td>\n",
       "      <td>54.96</td>\n",
       "      <td>5701775</td>\n",
       "      <td>DIS</td>\n",
       "    </tr>\n",
       "    <tr>\n",
       "      <th>170160</th>\n",
       "      <td>2013-02-14</td>\n",
       "      <td>54.92</td>\n",
       "      <td>55.17</td>\n",
       "      <td>54.710</td>\n",
       "      <td>54.88</td>\n",
       "      <td>8564486</td>\n",
       "      <td>DIS</td>\n",
       "    </tr>\n",
       "  </tbody>\n",
       "</table>\n",
       "</div>\n",
       "      <button class=\"colab-df-convert\" onclick=\"convertToInteractive('df-939e9f9f-226b-49ac-91f8-17b92f84a5fa')\"\n",
       "              title=\"Convert this dataframe to an interactive table.\"\n",
       "              style=\"display:none;\">\n",
       "        \n",
       "  <svg xmlns=\"http://www.w3.org/2000/svg\" height=\"24px\"viewBox=\"0 0 24 24\"\n",
       "       width=\"24px\">\n",
       "    <path d=\"M0 0h24v24H0V0z\" fill=\"none\"/>\n",
       "    <path d=\"M18.56 5.44l.94 2.06.94-2.06 2.06-.94-2.06-.94-.94-2.06-.94 2.06-2.06.94zm-11 1L8.5 8.5l.94-2.06 2.06-.94-2.06-.94L8.5 2.5l-.94 2.06-2.06.94zm10 10l.94 2.06.94-2.06 2.06-.94-2.06-.94-.94-2.06-.94 2.06-2.06.94z\"/><path d=\"M17.41 7.96l-1.37-1.37c-.4-.4-.92-.59-1.43-.59-.52 0-1.04.2-1.43.59L10.3 9.45l-7.72 7.72c-.78.78-.78 2.05 0 2.83L4 21.41c.39.39.9.59 1.41.59.51 0 1.02-.2 1.41-.59l7.78-7.78 2.81-2.81c.8-.78.8-2.07 0-2.86zM5.41 20L4 18.59l7.72-7.72 1.47 1.35L5.41 20z\"/>\n",
       "  </svg>\n",
       "      </button>\n",
       "      \n",
       "  <style>\n",
       "    .colab-df-container {\n",
       "      display:flex;\n",
       "      flex-wrap:wrap;\n",
       "      gap: 12px;\n",
       "    }\n",
       "\n",
       "    .colab-df-convert {\n",
       "      background-color: #E8F0FE;\n",
       "      border: none;\n",
       "      border-radius: 50%;\n",
       "      cursor: pointer;\n",
       "      display: none;\n",
       "      fill: #1967D2;\n",
       "      height: 32px;\n",
       "      padding: 0 0 0 0;\n",
       "      width: 32px;\n",
       "    }\n",
       "\n",
       "    .colab-df-convert:hover {\n",
       "      background-color: #E2EBFA;\n",
       "      box-shadow: 0px 1px 2px rgba(60, 64, 67, 0.3), 0px 1px 3px 1px rgba(60, 64, 67, 0.15);\n",
       "      fill: #174EA6;\n",
       "    }\n",
       "\n",
       "    [theme=dark] .colab-df-convert {\n",
       "      background-color: #3B4455;\n",
       "      fill: #D2E3FC;\n",
       "    }\n",
       "\n",
       "    [theme=dark] .colab-df-convert:hover {\n",
       "      background-color: #434B5C;\n",
       "      box-shadow: 0px 1px 3px 1px rgba(0, 0, 0, 0.15);\n",
       "      filter: drop-shadow(0px 1px 2px rgba(0, 0, 0, 0.3));\n",
       "      fill: #FFFFFF;\n",
       "    }\n",
       "  </style>\n",
       "\n",
       "      <script>\n",
       "        const buttonEl =\n",
       "          document.querySelector('#df-939e9f9f-226b-49ac-91f8-17b92f84a5fa button.colab-df-convert');\n",
       "        buttonEl.style.display =\n",
       "          google.colab.kernel.accessAllowed ? 'block' : 'none';\n",
       "\n",
       "        async function convertToInteractive(key) {\n",
       "          const element = document.querySelector('#df-939e9f9f-226b-49ac-91f8-17b92f84a5fa');\n",
       "          const dataTable =\n",
       "            await google.colab.kernel.invokeFunction('convertToInteractive',\n",
       "                                                     [key], {});\n",
       "          if (!dataTable) return;\n",
       "\n",
       "          const docLinkHtml = 'Like what you see? Visit the ' +\n",
       "            '<a target=\"_blank\" href=https://colab.research.google.com/notebooks/data_table.ipynb>data table notebook</a>'\n",
       "            + ' to learn more about interactive tables.';\n",
       "          element.innerHTML = '';\n",
       "          dataTable['output_type'] = 'display_data';\n",
       "          await google.colab.output.renderOutput(dataTable, element);\n",
       "          const docLink = document.createElement('div');\n",
       "          docLink.innerHTML = docLinkHtml;\n",
       "          element.appendChild(docLink);\n",
       "        }\n",
       "      </script>\n",
       "    </div>\n",
       "  </div>\n",
       "  "
      ],
      "text/plain": [
       "              date   open   high     low  close   volume Name\n",
       "170156  2013-02-08  54.38  54.72  54.310  54.66  9584224  DIS\n",
       "170157  2013-02-11  54.65  54.98  54.590  54.75  6358524  DIS\n",
       "170158  2013-02-12  54.77  55.05  54.690  54.95  8758025  DIS\n",
       "170159  2013-02-13  55.08  55.30  54.665  54.96  5701775  DIS\n",
       "170160  2013-02-14  54.92  55.17  54.710  54.88  8564486  DIS"
      ]
     },
     "execution_count": 18,
     "metadata": {},
     "output_type": "execute_result"
    }
   ],
   "source": [
    "stock.head()"
   ]
  },
  {
   "cell_type": "code",
   "execution_count": null,
   "metadata": {
    "_uuid": "aea2ae432b88b62363f3daaabc5ff8d5cc46a4ad",
    "execution": {
     "iopub.execute_input": "2022-05-28T20:51:42.405244Z",
     "iopub.status.busy": "2022-05-28T20:51:42.404938Z",
     "iopub.status.idle": "2022-05-28T20:51:42.412013Z",
     "shell.execute_reply": "2022-05-28T20:51:42.411378Z",
     "shell.execute_reply.started": "2022-05-28T20:51:42.405168Z"
    },
    "id": "-u2P3nkVfklp"
   },
   "outputs": [],
   "source": [
    "# creating an array with closing prices\n",
    "training_set = stock[['close']] "
   ]
  },
  {
   "cell_type": "code",
   "execution_count": null,
   "metadata": {
    "colab": {
     "base_uri": "https://localhost:8080/",
     "height": 206
    },
    "execution": {
     "iopub.execute_input": "2022-05-28T20:51:42.413581Z",
     "iopub.status.busy": "2022-05-28T20:51:42.413270Z",
     "iopub.status.idle": "2022-05-28T20:51:42.424242Z",
     "shell.execute_reply": "2022-05-28T20:51:42.423304Z",
     "shell.execute_reply.started": "2022-05-28T20:51:42.413515Z"
    },
    "id": "9qOhC0bdfklp",
    "outputId": "5ad14984-b475-4710-b178-a6b6cb10efe7"
   },
   "outputs": [
    {
     "data": {
      "text/html": [
       "\n",
       "  <div id=\"df-1d8b7f74-d71c-4eb7-876d-15a40da55d47\">\n",
       "    <div class=\"colab-df-container\">\n",
       "      <div>\n",
       "<style scoped>\n",
       "    .dataframe tbody tr th:only-of-type {\n",
       "        vertical-align: middle;\n",
       "    }\n",
       "\n",
       "    .dataframe tbody tr th {\n",
       "        vertical-align: top;\n",
       "    }\n",
       "\n",
       "    .dataframe thead th {\n",
       "        text-align: right;\n",
       "    }\n",
       "</style>\n",
       "<table border=\"1\" class=\"dataframe\">\n",
       "  <thead>\n",
       "    <tr style=\"text-align: right;\">\n",
       "      <th></th>\n",
       "      <th>close</th>\n",
       "    </tr>\n",
       "  </thead>\n",
       "  <tbody>\n",
       "    <tr>\n",
       "      <th>170156</th>\n",
       "      <td>54.66</td>\n",
       "    </tr>\n",
       "    <tr>\n",
       "      <th>170157</th>\n",
       "      <td>54.75</td>\n",
       "    </tr>\n",
       "    <tr>\n",
       "      <th>170158</th>\n",
       "      <td>54.95</td>\n",
       "    </tr>\n",
       "    <tr>\n",
       "      <th>170159</th>\n",
       "      <td>54.96</td>\n",
       "    </tr>\n",
       "    <tr>\n",
       "      <th>170160</th>\n",
       "      <td>54.88</td>\n",
       "    </tr>\n",
       "  </tbody>\n",
       "</table>\n",
       "</div>\n",
       "      <button class=\"colab-df-convert\" onclick=\"convertToInteractive('df-1d8b7f74-d71c-4eb7-876d-15a40da55d47')\"\n",
       "              title=\"Convert this dataframe to an interactive table.\"\n",
       "              style=\"display:none;\">\n",
       "        \n",
       "  <svg xmlns=\"http://www.w3.org/2000/svg\" height=\"24px\"viewBox=\"0 0 24 24\"\n",
       "       width=\"24px\">\n",
       "    <path d=\"M0 0h24v24H0V0z\" fill=\"none\"/>\n",
       "    <path d=\"M18.56 5.44l.94 2.06.94-2.06 2.06-.94-2.06-.94-.94-2.06-.94 2.06-2.06.94zm-11 1L8.5 8.5l.94-2.06 2.06-.94-2.06-.94L8.5 2.5l-.94 2.06-2.06.94zm10 10l.94 2.06.94-2.06 2.06-.94-2.06-.94-.94-2.06-.94 2.06-2.06.94z\"/><path d=\"M17.41 7.96l-1.37-1.37c-.4-.4-.92-.59-1.43-.59-.52 0-1.04.2-1.43.59L10.3 9.45l-7.72 7.72c-.78.78-.78 2.05 0 2.83L4 21.41c.39.39.9.59 1.41.59.51 0 1.02-.2 1.41-.59l7.78-7.78 2.81-2.81c.8-.78.8-2.07 0-2.86zM5.41 20L4 18.59l7.72-7.72 1.47 1.35L5.41 20z\"/>\n",
       "  </svg>\n",
       "      </button>\n",
       "      \n",
       "  <style>\n",
       "    .colab-df-container {\n",
       "      display:flex;\n",
       "      flex-wrap:wrap;\n",
       "      gap: 12px;\n",
       "    }\n",
       "\n",
       "    .colab-df-convert {\n",
       "      background-color: #E8F0FE;\n",
       "      border: none;\n",
       "      border-radius: 50%;\n",
       "      cursor: pointer;\n",
       "      display: none;\n",
       "      fill: #1967D2;\n",
       "      height: 32px;\n",
       "      padding: 0 0 0 0;\n",
       "      width: 32px;\n",
       "    }\n",
       "\n",
       "    .colab-df-convert:hover {\n",
       "      background-color: #E2EBFA;\n",
       "      box-shadow: 0px 1px 2px rgba(60, 64, 67, 0.3), 0px 1px 3px 1px rgba(60, 64, 67, 0.15);\n",
       "      fill: #174EA6;\n",
       "    }\n",
       "\n",
       "    [theme=dark] .colab-df-convert {\n",
       "      background-color: #3B4455;\n",
       "      fill: #D2E3FC;\n",
       "    }\n",
       "\n",
       "    [theme=dark] .colab-df-convert:hover {\n",
       "      background-color: #434B5C;\n",
       "      box-shadow: 0px 1px 3px 1px rgba(0, 0, 0, 0.15);\n",
       "      filter: drop-shadow(0px 1px 2px rgba(0, 0, 0, 0.3));\n",
       "      fill: #FFFFFF;\n",
       "    }\n",
       "  </style>\n",
       "\n",
       "      <script>\n",
       "        const buttonEl =\n",
       "          document.querySelector('#df-1d8b7f74-d71c-4eb7-876d-15a40da55d47 button.colab-df-convert');\n",
       "        buttonEl.style.display =\n",
       "          google.colab.kernel.accessAllowed ? 'block' : 'none';\n",
       "\n",
       "        async function convertToInteractive(key) {\n",
       "          const element = document.querySelector('#df-1d8b7f74-d71c-4eb7-876d-15a40da55d47');\n",
       "          const dataTable =\n",
       "            await google.colab.kernel.invokeFunction('convertToInteractive',\n",
       "                                                     [key], {});\n",
       "          if (!dataTable) return;\n",
       "\n",
       "          const docLinkHtml = 'Like what you see? Visit the ' +\n",
       "            '<a target=\"_blank\" href=https://colab.research.google.com/notebooks/data_table.ipynb>data table notebook</a>'\n",
       "            + ' to learn more about interactive tables.';\n",
       "          element.innerHTML = '';\n",
       "          dataTable['output_type'] = 'display_data';\n",
       "          await google.colab.output.renderOutput(dataTable, element);\n",
       "          const docLink = document.createElement('div');\n",
       "          docLink.innerHTML = docLinkHtml;\n",
       "          element.appendChild(docLink);\n",
       "        }\n",
       "      </script>\n",
       "    </div>\n",
       "  </div>\n",
       "  "
      ],
      "text/plain": [
       "        close\n",
       "170156  54.66\n",
       "170157  54.75\n",
       "170158  54.95\n",
       "170159  54.96\n",
       "170160  54.88"
      ]
     },
     "execution_count": 20,
     "metadata": {},
     "output_type": "execute_result"
    }
   ],
   "source": [
    "training_set.head()"
   ]
  },
  {
   "cell_type": "code",
   "execution_count": null,
   "metadata": {
    "colab": {
     "base_uri": "https://localhost:8080/",
     "height": 265
    },
    "execution": {
     "iopub.execute_input": "2022-05-28T20:51:42.426042Z",
     "iopub.status.busy": "2022-05-28T20:51:42.425488Z",
     "iopub.status.idle": "2022-05-28T20:51:42.591904Z",
     "shell.execute_reply": "2022-05-28T20:51:42.591195Z",
     "shell.execute_reply.started": "2022-05-28T20:51:42.425983Z"
    },
    "id": "vqEtpJe3fklp",
    "outputId": "61c3fa4d-da28-426b-aaed-0c1d7597726b"
   },
   "outputs": [
    {
     "data": {
      "image/png": "[encoded data removed]",
      "text/plain": [
       "<Figure size 432x288 with 1 Axes>"
      ]
     },
     "metadata": {
      "needs_background": "light"
     },
     "output_type": "display_data"
    }
   ],
   "source": [
    "training_set['close'].plot()\n",
    "plt.ylabel('Stock Price')\n",
    "plt.xlabel(None)\n",
    "plt.legend()\n",
    "plt.show()"
   ]
  },
  {
   "cell_type": "code",
   "execution_count": null,
   "metadata": {
    "_uuid": "ef4c75b521f779f1f57cb4872d8791ad40b1a98a",
    "execution": {
     "iopub.execute_input": "2022-05-28T20:51:42.593444Z",
     "iopub.status.busy": "2022-05-28T20:51:42.593171Z",
     "iopub.status.idle": "2022-05-28T20:51:43.252378Z",
     "shell.execute_reply": "2022-05-28T20:51:43.251751Z",
     "shell.execute_reply.started": "2022-05-28T20:51:42.593386Z"
    },
    "id": "kBZI4WH2fklp"
   },
   "outputs": [],
   "source": [
    "# normalizing the values\n",
    "from sklearn.preprocessing import MinMaxScaler\n",
    "sc = MinMaxScaler()\n",
    "training_set_scaled = sc.fit_transform(training_set)"
   ]
  },
  {
   "cell_type": "code",
   "execution_count": null,
   "metadata": {
    "_uuid": "508b061f9e8842a765d2629a020bbcb706a8e60a",
    "colab": {
     "base_uri": "https://localhost:8080/"
    },
    "execution": {
     "iopub.execute_input": "2022-05-28T20:51:43.255410Z",
     "iopub.status.busy": "2022-05-28T20:51:43.255185Z",
     "iopub.status.idle": "2022-05-28T20:51:43.263208Z",
     "shell.execute_reply": "2022-05-28T20:51:43.262446Z",
     "shell.execute_reply.started": "2022-05-28T20:51:43.255367Z"
    },
    "id": "JX5P4jxJfklp",
    "outputId": "34dd8954-0c9c-4151-d1d2-63452c13c09b"
   },
   "outputs": [
    {
     "data": {
      "text/plain": [
       "(1259, 1)"
      ]
     },
     "execution_count": 24,
     "metadata": {},
     "output_type": "execute_result"
    }
   ],
   "source": [
    "training_set_scaled.shape"
   ]
  },
  {
   "cell_type": "markdown",
   "metadata": {
    "_uuid": "53fe6c1139ef9c30bc5b06c18fd32183fb287f52",
    "id": "nw8HavzBfklp"
   },
   "source": [
    "### In the below cell, we are creating 2 arrays, x_train and y_train.\n",
    "* x_train stores the values of closing prices of past 365(or as specified in timestamp) days\n",
    "* y_train stores the values of closing prices of the present day"
   ]
  },
  {
   "cell_type": "code",
   "execution_count": null,
   "metadata": {
    "_uuid": "62efca5e9246a76c09f14ec9dddba1358da27f34",
    "execution": {
     "iopub.execute_input": "2022-05-28T20:51:43.265195Z",
     "iopub.status.busy": "2022-05-28T20:51:43.264680Z",
     "iopub.status.idle": "2022-05-28T20:51:43.277785Z",
     "shell.execute_reply": "2022-05-28T20:51:43.277082Z",
     "shell.execute_reply.started": "2022-05-28T20:51:43.265092Z"
    },
    "id": "jw0tsEl1fklp"
   },
   "outputs": [],
   "source": [
    "x_train = []\n",
    "y_train = []\n",
    "timestamp = 365\n",
    "length = len(training_set)\n",
    "for i in range(timestamp, length):\n",
    "    x_train.append(training_set_scaled[i-timestamp:i, 0])\n",
    "    y_train.append(training_set_scaled[i, 0])\n",
    "    \n",
    "x_train = np.array(x_train)\n",
    "y_train = np.array(y_train)"
   ]
  },
  {
   "cell_type": "code",
   "execution_count": null,
   "metadata": {
    "_uuid": "72398d95c594a89f6822079811fda462a3596f9a",
    "colab": {
     "base_uri": "https://localhost:8080/"
    },
    "execution": {
     "iopub.execute_input": "2022-05-28T20:51:43.279380Z",
     "iopub.status.busy": "2022-05-28T20:51:43.279060Z",
     "iopub.status.idle": "2022-05-28T20:51:43.287956Z",
     "shell.execute_reply": "2022-05-28T20:51:43.287153Z",
     "shell.execute_reply.started": "2022-05-28T20:51:43.279314Z"
    },
    "id": "cQAMGlenfklq",
    "outputId": "44c784df-900a-4452-c645-e9b2ec30bf06"
   },
   "outputs": [
    {
     "name": "stdout",
     "output_type": "stream",
     "text": [
      "[0.01571219 0.01703377 0.01997063 0.02011747 0.01894273 0.02966226\n",
      " 0.03142438 0.01483113 0.00851689 0.00969163 0.         0.00455213\n",
      " 0.01306902 0.01468429 0.02555066 0.03245228 0.04243759 0.04067548\n",
      " 0.04008811 0.05580029 0.05976505 0.05168869 0.05506608 0.06108664\n",
      " 0.05859031 0.04757709 0.03994126 0.04919236 0.03994126 0.04684288\n",
      " 0.03847283 0.04464023 0.04229075 0.04713656 0.04552129 0.05682819\n",
      " 0.05374449 0.05873715 0.06035242 0.07679883 0.0814978  0.09574156\n",
      " 0.10220264 0.10220264 0.07767988 0.1051395  0.1041116  0.09397944\n",
      " 0.11703377 0.1236417  0.13215859 0.1226138  0.12349486 0.1215859\n",
      " 0.13817915 0.13582966 0.14126285 0.15110132 0.16461087 0.16842878\n",
      " 0.18325991 0.18208517 0.19207048 0.19985316 0.20161527 0.20381791\n",
      " 0.20675477 0.18913363 0.1907489  0.18399413 0.17973568 0.17591777\n",
      " 0.17092511 0.17474302 0.19236417 0.18604993 0.16240822 0.13935389\n",
      " 0.14992658 0.15800294 0.13994126 0.14023495 0.16534508 0.15036711\n",
      " 0.14992658 0.13803231 0.15726872 0.14992658 0.16005874 0.17180617\n",
      " 0.15770925 0.12320117 0.13421439 0.12995595 0.1318649  0.14126285\n",
      " 0.14875184 0.14038179 0.15183554 0.14199706 0.14713656 0.15022026\n",
      " 0.16328928 0.16666667 0.16622614 0.1907489  0.19662261 0.18120411\n",
      " 0.16798825 0.17283407 0.17958884 0.16989721 0.15873715 0.15947137\n",
      " 0.16226138 0.16093979 0.16725404 0.16182085 0.15550661 0.16240822\n",
      " 0.17283407 0.189721   0.1825257  0.19765051 0.18091043 0.17856094\n",
      " 0.16358297 0.15183554 0.15256975 0.15227606 0.12907489 0.12599119\n",
      " 0.12099853 0.12173275 0.11086637 0.11820852 0.1195301  0.11395007\n",
      " 0.10425844 0.10602056 0.10998532 0.10631424 0.10778267 0.11042584\n",
      " 0.11321586 0.11453744 0.1174743  0.13568282 0.15198238 0.17474302\n",
      " 0.19236417 0.19603524 0.19662261 0.19853157 0.17812041 0.16769457\n",
      " 0.16387665 0.15756241 0.15947137 0.17107195 0.17033774 0.16005874\n",
      " 0.1650514  0.16578561 0.15315712 0.17195301 0.16152717 0.15286344\n",
      " 0.14684288 0.17606461 0.18531571 0.19441997 0.1886931  0.18737151\n",
      " 0.18839941 0.19911894 0.20587372 0.22628488 0.2133627  0.22701909\n",
      " 0.23010279 0.22628488 0.22511013 0.2185022  0.22026432 0.22643172\n",
      " 0.22349486 0.22408223 0.22628488 0.19911894 0.22011747 0.21659325\n",
      " 0.2082232  0.22584435 0.24126285 0.24096916 0.23362702 0.22804699\n",
      " 0.22966226 0.24008811 0.24390602 0.23715125 0.25829662 0.25227606\n",
      " 0.24889868 0.25433186 0.23950073 0.24052863 0.24434655 0.26240822\n",
      " 0.25726872 0.26402349 0.24860499 0.23553598 0.23538913 0.24845815\n",
      " 0.25066079 0.2732746  0.2845815  0.27621145 0.28913363 0.29750367\n",
      " 0.30881057 0.30484581 0.33245228 0.3349486  0.33303965 0.33069016\n",
      " 0.32643172 0.33406755 0.31762115 0.31292217 0.32011747 0.28898678\n",
      " 0.30631424 0.30381791 0.30279001 0.29941263 0.30264317 0.31894273\n",
      " 0.3113069  0.28091043 0.27400881 0.28325991 0.26049927 0.28825257\n",
      " 0.27929515 0.24082232 0.25638767 0.26681351 0.3226138  0.32422907\n",
      " 0.34464023 0.35535977 0.35712188 0.35697504 0.37650514 0.38164464\n",
      " 0.3712188  0.37591777 0.389721   0.39853157 0.39089574 0.38898678\n",
      " 0.3948605  0.39970631 0.37988253 0.41292217 0.42716593 0.43685756\n",
      " 0.42026432 0.41674009 0.40323054 0.40807636 0.38678414 0.38883994\n",
      " 0.4082232  0.41703377 0.39544787 0.39970631 0.39295154 0.38032305\n",
      " 0.38120411 0.36754772 0.36549192 0.37298091 0.38883994 0.41086637\n",
      " 0.4123348  0.41262849 0.39412628 0.37503671 0.3814978  0.39471366\n",
      " 0.35124816 0.34390602 0.35286344 0.35345081 0.37239354 0.3876652\n",
      " 0.37474302 0.37973568 0.38076358 0.38179148 0.36182085 0.35521292\n",
      " 0.36784141 0.37812041 0.38135095 0.39236417 0.40572687 0.40293686\n",
      " 0.39207048 0.4113069  0.4164464  0.42334802 0.41835536 0.40132159\n",
      " 0.39001468 0.39353891 0.40323054 0.40381791 0.41997063 0.42232012\n",
      " 0.43656388 0.44273128 0.44067548 0.44698972 0.44669604 0.45051395\n",
      " 0.44478708 0.45007342 0.45800294 0.45550661 0.46828194 0.45756241\n",
      " 0.45110132 0.42892805 0.42892805 0.43627019 0.43421439 0.44038179\n",
      " 0.44317181 0.42922173 0.42834068 0.42716593 0.44508076 0.45315712\n",
      " 0.46563877 0.47209985 0.48281938 0.48237885 0.48825257 0.4845815\n",
      " 0.47386197 0.4938326  0.48854626 0.48898678 0.48707783 0.47812041\n",
      " 0.46637298 0.46167401 0.47312775 0.47209985 0.47900147]\n",
      "\n",
      "\n",
      "0.47650513950073425\n"
     ]
    }
   ],
   "source": [
    "print (x_train[0])\n",
    "print ('\\n')\n",
    "print (y_train[0])"
   ]
  },
  {
   "cell_type": "code",
   "execution_count": null,
   "metadata": {
    "_uuid": "66750383786e3536b229df90baeb6892701bd8a3",
    "colab": {
     "base_uri": "https://localhost:8080/"
    },
    "execution": {
     "iopub.execute_input": "2022-05-28T20:51:43.289943Z",
     "iopub.status.busy": "2022-05-28T20:51:43.289388Z",
     "iopub.status.idle": "2022-05-28T20:51:43.296658Z",
     "shell.execute_reply": "2022-05-28T20:51:43.295903Z",
     "shell.execute_reply.started": "2022-05-28T20:51:43.289677Z"
    },
    "id": "e-TPA_S8fklq",
    "outputId": "7a5189eb-0245-4218-e2fb-57aba6e10d56"
   },
   "outputs": [
    {
     "data": {
      "text/plain": [
       "(894, 365)"
      ]
     },
     "execution_count": 28,
     "metadata": {},
     "output_type": "execute_result"
    }
   ],
   "source": [
    "x_train.shape"
   ]
  },
  {
   "cell_type": "code",
   "execution_count": null,
   "metadata": {
    "_uuid": "e1dfd7ce18c3df4e0f239b29693e2c3f08d9998c",
    "colab": {
     "base_uri": "https://localhost:8080/"
    },
    "execution": {
     "iopub.execute_input": "2022-05-28T20:51:43.298385Z",
     "iopub.status.busy": "2022-05-28T20:51:43.297903Z",
     "iopub.status.idle": "2022-05-28T20:51:43.305786Z",
     "shell.execute_reply": "2022-05-28T20:51:43.304888Z",
     "shell.execute_reply.started": "2022-05-28T20:51:43.298244Z"
    },
    "id": "HrxNmgVKfklq",
    "outputId": "947d72f6-4cb7-4542-be50-438005ad5ee8"
   },
   "outputs": [
    {
     "data": {
      "text/plain": [
       "(894, 365, 1)"
      ]
     },
     "execution_count": 29,
     "metadata": {},
     "output_type": "execute_result"
    }
   ],
   "source": [
    "x_train = np.reshape(x_train, (x_train.shape[0], x_train.shape[1], 1))\n",
    "x_train.shape"
   ]
  },
  {
   "cell_type": "code",
   "execution_count": null,
   "metadata": {
    "_uuid": "0d70a70b3f23ca870cb67795d1f8a183a1ddf34b",
    "execution": {
     "iopub.execute_input": "2022-05-28T20:51:43.307528Z",
     "iopub.status.busy": "2022-05-28T20:51:43.307185Z",
     "iopub.status.idle": "2022-05-28T20:51:46.136285Z",
     "shell.execute_reply": "2022-05-28T20:51:46.135589Z",
     "shell.execute_reply.started": "2022-05-28T20:51:43.307469Z"
    },
    "id": "kmb-jSNZfklq"
   },
   "outputs": [],
   "source": [
    "from keras.models import Sequential\n",
    "from keras.layers import LSTM, Dense, Dropout\n",
    "\n",
    "model = Sequential()\n",
    "\n",
    "model.add(LSTM(units = 92, return_sequences = True, input_shape = (x_train.shape[1], 1)))\n",
    "model.add(Dropout(0.2))\n",
    "\n",
    "model.add(LSTM(units = 92, return_sequences = True))\n",
    "model.add(Dropout(0.2))\n",
    "\n",
    "model.add(LSTM(units = 92, return_sequences = True))\n",
    "model.add(Dropout(0.2))\n",
    "\n",
    "model.add(LSTM(units = 92, return_sequences = False))\n",
    "model.add(Dropout(0.2))\n",
    "\n",
    "model.add(Dense(units = 1))\n",
    "model.compile(optimizer = 'adam', loss = 'mean_squared_error')"
   ]
  },
  {
   "cell_type": "code",
   "execution_count": null,
   "metadata": {
    "_uuid": "4a8a14952769fce49d44105a67b9add8c51adea4",
    "colab": {
     "base_uri": "https://localhost:8080/"
    },
    "execution": {
     "iopub.execute_input": "2022-05-28T20:53:16.714701Z",
     "iopub.status.busy": "2022-05-28T20:53:16.714421Z",
     "iopub.status.idle": "2022-05-28T20:58:08.027403Z",
     "shell.execute_reply": "2022-05-28T20:58:08.026749Z",
     "shell.execute_reply.started": "2022-05-28T20:53:16.714646Z"
    },
    "id": "LdiAG9WVfklq",
    "outputId": "4f39d7a5-1092-42a0-aa56-59b8a2d91f4e"
   },
   "outputs": [
    {
     "name": "stdout",
     "output_type": "stream",
     "text": [
      "Epoch 1/30\n",
      "28/28 [==============================] - 38s 1s/step - loss: 0.0906\n",
      "Epoch 2/30\n",
      "28/28 [==============================] - 30s 1s/step - loss: 0.0114\n",
      "Epoch 3/30\n",
      "28/28 [==============================] - 32s 1s/step - loss: 0.0083\n",
      "Epoch 4/30\n",
      "28/28 [==============================] - 30s 1s/step - loss: 0.0067\n",
      "Epoch 5/30\n",
      "28/28 [==============================] - 30s 1s/step - loss: 0.0063\n",
      "Epoch 6/30\n",
      "28/28 [==============================] - 30s 1s/step - loss: 0.0062\n",
      "Epoch 7/30\n",
      "28/28 [==============================] - 30s 1s/step - loss: 0.0059\n",
      "Epoch 8/30\n",
      "28/28 [==============================] - 30s 1s/step - loss: 0.0053\n",
      "Epoch 9/30\n",
      "28/28 [==============================] - 30s 1s/step - loss: 0.0055\n",
      "Epoch 10/30\n",
      "28/28 [==============================] - 30s 1s/step - loss: 0.0059\n",
      "Epoch 11/30\n",
      "28/28 [==============================] - 30s 1s/step - loss: 0.0050\n",
      "Epoch 12/30\n",
      "28/28 [==============================] - 30s 1s/step - loss: 0.0048\n",
      "Epoch 13/30\n",
      "28/28 [==============================] - 30s 1s/step - loss: 0.0050\n",
      "Epoch 14/30\n",
      "28/28 [==============================] - 30s 1s/step - loss: 0.0051\n",
      "Epoch 15/30\n",
      "28/28 [==============================] - 30s 1s/step - loss: 0.0049\n",
      "Epoch 16/30\n",
      "28/28 [==============================] - 30s 1s/step - loss: 0.0044\n",
      "Epoch 17/30\n",
      "28/28 [==============================] - 30s 1s/step - loss: 0.0048\n",
      "Epoch 18/30\n",
      "28/28 [==============================] - 30s 1s/step - loss: 0.0053\n",
      "Epoch 19/30\n",
      "28/28 [==============================] - 30s 1s/step - loss: 0.0044\n",
      "Epoch 20/30\n",
      "28/28 [==============================] - 30s 1s/step - loss: 0.0041\n",
      "Epoch 21/30\n",
      "28/28 [==============================] - 30s 1s/step - loss: 0.0040\n",
      "Epoch 22/30\n",
      "28/28 [==============================] - 30s 1s/step - loss: 0.0044\n",
      "Epoch 23/30\n",
      "28/28 [==============================] - 31s 1s/step - loss: 0.0039\n",
      "Epoch 24/30\n",
      "28/28 [==============================] - 30s 1s/step - loss: 0.0040\n",
      "Epoch 25/30\n",
      "28/28 [==============================] - 30s 1s/step - loss: 0.0039\n",
      "Epoch 26/30\n",
      "28/28 [==============================] - 30s 1s/step - loss: 0.0039\n",
      "Epoch 27/30\n",
      "28/28 [==============================] - 30s 1s/step - loss: 0.0040\n",
      "Epoch 28/30\n",
      "28/28 [==============================] - 30s 1s/step - loss: 0.0038\n",
      "Epoch 29/30\n",
      "28/28 [==============================] - 30s 1s/step - loss: 0.0037\n",
      "Epoch 30/30\n",
      "28/28 [==============================] - 30s 1s/step - loss: 0.0038\n"
     ]
    },
    {
     "data": {
      "text/plain": [
       "<keras.callbacks.History at 0x7f7e96125090>"
      ]
     },
     "execution_count": 31,
     "metadata": {},
     "output_type": "execute_result"
    }
   ],
   "source": [
    "model.fit(x_train, y_train, epochs = 30, batch_size = 32)"
   ]
  },
  {
   "cell_type": "markdown",
   "metadata": {
    "_uuid": "c3ed3ffe771db988b86b654b074e86dbde9f28d9",
    "id": "KiqUF6L4fklq"
   },
   "source": [
    "### Now the model is trained. We will test the performance of our model by plotting the predicted stock prices and actual stock prices of other companies."
   ]
  },
  {
   "cell_type": "code",
   "execution_count": null,
   "metadata": {
    "_uuid": "7f2052eb9f3756a2f8a7ebb7ce08668cd9f139eb",
    "execution": {
     "iopub.execute_input": "2022-05-28T21:02:23.842245Z",
     "iopub.status.busy": "2022-05-28T21:02:23.841956Z",
     "iopub.status.idle": "2022-05-28T21:02:23.953406Z",
     "shell.execute_reply": "2022-05-28T21:02:23.952707Z",
     "shell.execute_reply.started": "2022-05-28T21:02:23.842194Z"
    },
    "id": "eHyl76oFfklq"
   },
   "outputs": [],
   "source": [
    "test_set = dataset.loc[dataset['Name'] == 'DIS']   # change CBS to whatever company from the list\n",
    "test_set = test_set.loc[:, test_set.columns == 'close']"
   ]
  },
  {
   "cell_type": "code",
   "execution_count": null,
   "metadata": {
    "_uuid": "72d9495f0d3c22bd1431e08947e4cf15719bd1ea",
    "execution": {
     "iopub.execute_input": "2022-05-28T21:02:24.570726Z",
     "iopub.status.busy": "2022-05-28T21:02:24.570437Z",
     "iopub.status.idle": "2022-05-28T21:02:24.575116Z",
     "shell.execute_reply": "2022-05-28T21:02:24.574252Z",
     "shell.execute_reply.started": "2022-05-28T21:02:24.570674Z"
    },
    "id": "uU_sA7AOfklq"
   },
   "outputs": [],
   "source": [
    "# storing the actual stock prices in y_test starting from 60th day as the previous 60 days are used to predict the present day value.\n",
    "y_test = test_set.iloc[timestamp:, 0:].values"
   ]
  },
  {
   "cell_type": "code",
   "execution_count": null,
   "metadata": {
    "_uuid": "f3279aed95a3fb83cbf884fe0506cf3dfadf121a",
    "colab": {
     "base_uri": "https://localhost:8080/"
    },
    "execution": {
     "iopub.execute_input": "2022-05-28T21:02:24.846730Z",
     "iopub.status.busy": "2022-05-28T21:02:24.846406Z",
     "iopub.status.idle": "2022-05-28T21:02:24.855950Z",
     "shell.execute_reply": "2022-05-28T21:02:24.855204Z",
     "shell.execute_reply.started": "2022-05-28T21:02:24.846686Z"
    },
    "id": "q7ySOUGDfklq",
    "outputId": "3718bffe-524a-47a8-f57d-56be4fa65f3b"
   },
   "outputs": [
    {
     "name": "stderr",
     "output_type": "stream",
     "text": [
      "/usr/local/lib/python3.7/dist-packages/sklearn/base.py:451: UserWarning: X does not have valid feature names, but MinMaxScaler was fitted with feature names\n",
      "  \"X does not have valid feature names, but\"\n"
     ]
    }
   ],
   "source": [
    "# storing all values in a variable for generating an input array for our model \n",
    "closing_price = test_set.iloc[:, 0:].values\n",
    "closing_price_scaled = sc.transform(closing_price)"
   ]
  },
  {
   "cell_type": "code",
   "execution_count": null,
   "metadata": {
    "_uuid": "bf8c05298398293eda45877f96e7c1aae93eb3a0",
    "colab": {
     "base_uri": "https://localhost:8080/"
    },
    "execution": {
     "iopub.execute_input": "2022-05-28T21:02:25.438369Z",
     "iopub.status.busy": "2022-05-28T21:02:25.438092Z",
     "iopub.status.idle": "2022-05-28T21:02:25.450560Z",
     "shell.execute_reply": "2022-05-28T21:02:25.449562Z",
     "shell.execute_reply.started": "2022-05-28T21:02:25.438319Z"
    },
    "id": "UFsTLZpWfklr",
    "outputId": "6f403eef-626d-4408-d5e1-a4806e65c120"
   },
   "outputs": [
    {
     "data": {
      "text/plain": [
       "(894, 365)"
      ]
     },
     "execution_count": 44,
     "metadata": {},
     "output_type": "execute_result"
    }
   ],
   "source": [
    "# the model will predict the values on x_test\n",
    "x_test = [] \n",
    "length = len(test_set)\n",
    "\n",
    "for i in range(timestamp, length):\n",
    "    x_test.append(closing_price_scaled[i-timestamp:i, 0])\n",
    "    \n",
    "x_test = np.array(x_test)\n",
    "x_test.shape"
   ]
  },
  {
   "cell_type": "code",
   "execution_count": null,
   "metadata": {
    "_uuid": "c3f5628f2e8947f588bab6015f777eb339047963",
    "colab": {
     "base_uri": "https://localhost:8080/"
    },
    "execution": {
     "iopub.execute_input": "2022-05-28T21:02:25.949450Z",
     "iopub.status.busy": "2022-05-28T21:02:25.949173Z",
     "iopub.status.idle": "2022-05-28T21:02:25.956917Z",
     "shell.execute_reply": "2022-05-28T21:02:25.955978Z",
     "shell.execute_reply.started": "2022-05-28T21:02:25.949401Z"
    },
    "id": "iVU6iLTgfklr",
    "outputId": "07d7faea-12a4-48d3-ca72-e294547a10dd"
   },
   "outputs": [
    {
     "data": {
      "text/plain": [
       "(894, 365, 1)"
      ]
     },
     "execution_count": 45,
     "metadata": {},
     "output_type": "execute_result"
    }
   ],
   "source": [
    "x_test = np.reshape(x_test, (x_test.shape[0], x_test.shape[1], 1))\n",
    "x_test.shape"
   ]
  },
  {
   "cell_type": "code",
   "execution_count": null,
   "metadata": {
    "_uuid": "e54b67cc1267fbf6b37d46c7c1eff952c6b827e1",
    "execution": {
     "iopub.execute_input": "2022-05-28T21:02:26.562508Z",
     "iopub.status.busy": "2022-05-28T21:02:26.562217Z",
     "iopub.status.idle": "2022-05-28T21:02:28.350761Z",
     "shell.execute_reply": "2022-05-28T21:02:28.350076Z",
     "shell.execute_reply.started": "2022-05-28T21:02:26.562445Z"
    },
    "id": "jyWV2bnwfklr"
   },
   "outputs": [],
   "source": [
    "# predicting the stock price values\n",
    "y_pred = model.predict(x_test)\n",
    "predicted_price = sc.inverse_transform(y_pred)"
   ]
  },
  {
   "cell_type": "code",
   "execution_count": null,
   "metadata": {
    "_uuid": "7640dca1438f4ad505cfdff7da881aa38553adea",
    "colab": {
     "base_uri": "https://localhost:8080/",
     "height": 295
    },
    "execution": {
     "iopub.execute_input": "2022-05-28T21:02:28.351858Z",
     "iopub.status.busy": "2022-05-28T21:02:28.351624Z",
     "iopub.status.idle": "2022-05-28T21:02:28.497067Z",
     "shell.execute_reply": "2022-05-28T21:02:28.496265Z",
     "shell.execute_reply.started": "2022-05-28T21:02:28.351816Z"
    },
    "id": "siJT7G4ofklr",
    "outputId": "ca2f0c1a-e657-4880-a05e-d10717fdc3e9"
   },
   "outputs": [
    {
     "data": {
      "image/png": "[encoded data removed]",
      "text/plain": [
       "<Figure size 432x288 with 1 Axes>"
      ]
     },
     "metadata": {
      "needs_background": "light"
     },
     "output_type": "display_data"
    }
   ],
   "source": [
    "# plotting the results\n",
    "plt.plot(y_test, color = 'blue', label = 'Actual Stock Price')\n",
    "plt.plot(predicted_price, color = 'red', label = 'Predicted Stock Price')\n",
    "plt.title('DIS Stock Price Prediction')\n",
    "plt.xlabel('Time')\n",
    "plt.ylabel('Stock Price')\n",
    "plt.legend()\n",
    "plt.show()"
   ]
  },
  {
   "cell_type": "code",
   "execution_count": null,
   "metadata": {
    "_uuid": "b29b4c16ab208f454e3b233c6b19fe2697a5717e",
    "id": "wih7MGkhfklr"
   },
   "outputs": [],
   "source": [
    "model.save('StockPrediction.h5')"
   ]
  },
  {
   "cell_type": "code",
   "execution_count": null,
   "metadata": {
    "id": "6LQah_igjxP1"
   },
   "outputs": [],
   "source": [
    "# model evaluation\n",
    "from keras.models import load_model\n",
    "\n",
    "model = load_model('StockPrediction.h5')\n",
    "\n",
    "####"
   ]
  },
  {
   "cell_type": "code",
   "execution_count": null,
   "metadata": {
    "id": "vXt4U6VWkEzw"
   },
   "outputs": [],
   "source": []
  }
 ],
 "metadata": {
  "colab": {
   "name": "lstm-stock-price-movement-prediction.ipynb",
   "provenance": []
  },
  "kernelspec": {
   "display_name": "Python 3 (ipykernel)",
   "language": "python",
   "name": "python3"
  },
  "language_info": {
   "codemirror_mode": {
    "name": "ipython",
    "version": 3
   },
   "file_extension": ".py",
   "mimetype": "text/x-python",
   "name": "python",
   "nbconvert_exporter": "python",
   "pygments_lexer": "ipython3",
   "version": "3.7.13"
  }
 },
 "nbformat": 4,
 "nbformat_minor": 1
}
