{
  "cells": [
    {
      "cell_type": "markdown",
      "metadata": {
        "id": "uaTzMK4Sfkln"
      },
      "source": [
        "### To predict the movement of stock prices, LSTM model is used. Here, we are only predicting the movement of closing price but the similar approach can be followed for other columns as well.\n",
        "### The model is trained on the stock prices of AAL company which is then tested on other companies.\n",
        "### As this is a time series prediction, we are considering the prices of past 60 days to predict the future price. "
      ]
    },
    {
      "cell_type": "code",
      "execution_count": null,
      "metadata": {
        "id": "uvvEgcHsfkln"
      },
      "outputs": [],
      "source": [
        "# importing libraries\n",
        "import numpy as np\n",
        "import pandas as pd\n",
        "import matplotlib.pyplot as plt"
      ]
    },
    {
      "cell_type": "code",
      "execution_count": null,
      "metadata": {
        "id": "B3imfdFdfklo"
      },
      "outputs": [],
      "source": [
        "# loading the stock prices of all companies in a dataframe\n",
        "dataset = pd.read_csv('/content/stocks_in_recent_5_years.csv')"
      ]
    },
    {
      "cell_type": "code",
      "execution_count": null,
      "metadata": {
        "id": "chiTjzu8fklo",
        "colab": {
          "base_uri": "https://localhost:8080/",
          "height": 206
        },
        "outputId": "9e279420-1ad6-4bcd-d766-d1a7e86978bd"
      },
      "outputs": [
        {
          "output_type": "execute_result",
          "data": {
            "text/plain": [
              "         date       open       high        low      close     volume name\n",
              "0  2017-05-30  48.580002  47.790001  48.320000  47.959999  5512900.0  AAL\n",
              "1  2017-05-31  48.480000  47.529999  48.200001  48.410000  4486100.0  AAL\n",
              "2  2017-06-01  49.360001  48.299999  48.500000  49.049999  4421400.0  AAL\n",
              "3  2017-06-02  50.470001  49.369999  49.560001  49.520000  7708600.0  AAL\n",
              "4  2017-06-05  49.950001  49.400002  49.529999  49.740002  5466700.0  AAL"
            ],
            "text/html": [
              "\n",
              "  <div id=\"df-345d9591-9d05-41f7-9f4e-d39264bcdc03\">\n",
              "    <div class=\"colab-df-container\">\n",
              "      <div>\n",
              "<style scoped>\n",
              "    .dataframe tbody tr th:only-of-type {\n",
              "        vertical-align: middle;\n",
              "    }\n",
              "\n",
              "    .dataframe tbody tr th {\n",
              "        vertical-align: top;\n",
              "    }\n",
              "\n",
              "    .dataframe thead th {\n",
              "        text-align: right;\n",
              "    }\n",
              "</style>\n",
              "<table border=\"1\" class=\"dataframe\">\n",
              "  <thead>\n",
              "    <tr style=\"text-align: right;\">\n",
              "      <th></th>\n",
              "      <th>date</th>\n",
              "      <th>open</th>\n",
              "      <th>high</th>\n",
              "      <th>low</th>\n",
              "      <th>close</th>\n",
              "      <th>volume</th>\n",
              "      <th>name</th>\n",
              "    </tr>\n",
              "  </thead>\n",
              "  <tbody>\n",
              "    <tr>\n",
              "      <th>0</th>\n",
              "      <td>2017-05-30</td>\n",
              "      <td>48.580002</td>\n",
              "      <td>47.790001</td>\n",
              "      <td>48.320000</td>\n",
              "      <td>47.959999</td>\n",
              "      <td>5512900.0</td>\n",
              "      <td>AAL</td>\n",
              "    </tr>\n",
              "    <tr>\n",
              "      <th>1</th>\n",
              "      <td>2017-05-31</td>\n",
              "      <td>48.480000</td>\n",
              "      <td>47.529999</td>\n",
              "      <td>48.200001</td>\n",
              "      <td>48.410000</td>\n",
              "      <td>4486100.0</td>\n",
              "      <td>AAL</td>\n",
              "    </tr>\n",
              "    <tr>\n",
              "      <th>2</th>\n",
              "      <td>2017-06-01</td>\n",
              "      <td>49.360001</td>\n",
              "      <td>48.299999</td>\n",
              "      <td>48.500000</td>\n",
              "      <td>49.049999</td>\n",
              "      <td>4421400.0</td>\n",
              "      <td>AAL</td>\n",
              "    </tr>\n",
              "    <tr>\n",
              "      <th>3</th>\n",
              "      <td>2017-06-02</td>\n",
              "      <td>50.470001</td>\n",
              "      <td>49.369999</td>\n",
              "      <td>49.560001</td>\n",
              "      <td>49.520000</td>\n",
              "      <td>7708600.0</td>\n",
              "      <td>AAL</td>\n",
              "    </tr>\n",
              "    <tr>\n",
              "      <th>4</th>\n",
              "      <td>2017-06-05</td>\n",
              "      <td>49.950001</td>\n",
              "      <td>49.400002</td>\n",
              "      <td>49.529999</td>\n",
              "      <td>49.740002</td>\n",
              "      <td>5466700.0</td>\n",
              "      <td>AAL</td>\n",
              "    </tr>\n",
              "  </tbody>\n",
              "</table>\n",
              "</div>\n",
              "      <button class=\"colab-df-convert\" onclick=\"convertToInteractive('df-345d9591-9d05-41f7-9f4e-d39264bcdc03')\"\n",
              "              title=\"Convert this dataframe to an interactive table.\"\n",
              "              style=\"display:none;\">\n",
              "        \n",
              "  <svg xmlns=\"http://www.w3.org/2000/svg\" height=\"24px\"viewBox=\"0 0 24 24\"\n",
              "       width=\"24px\">\n",
              "    <path d=\"M0 0h24v24H0V0z\" fill=\"none\"/>\n",
              "    <path d=\"M18.56 5.44l.94 2.06.94-2.06 2.06-.94-2.06-.94-.94-2.06-.94 2.06-2.06.94zm-11 1L8.5 8.5l.94-2.06 2.06-.94-2.06-.94L8.5 2.5l-.94 2.06-2.06.94zm10 10l.94 2.06.94-2.06 2.06-.94-2.06-.94-.94-2.06-.94 2.06-2.06.94z\"/><path d=\"M17.41 7.96l-1.37-1.37c-.4-.4-.92-.59-1.43-.59-.52 0-1.04.2-1.43.59L10.3 9.45l-7.72 7.72c-.78.78-.78 2.05 0 2.83L4 21.41c.39.39.9.59 1.41.59.51 0 1.02-.2 1.41-.59l7.78-7.78 2.81-2.81c.8-.78.8-2.07 0-2.86zM5.41 20L4 18.59l7.72-7.72 1.47 1.35L5.41 20z\"/>\n",
              "  </svg>\n",
              "      </button>\n",
              "      \n",
              "  <style>\n",
              "    .colab-df-container {\n",
              "      display:flex;\n",
              "      flex-wrap:wrap;\n",
              "      gap: 12px;\n",
              "    }\n",
              "\n",
              "    .colab-df-convert {\n",
              "      background-color: #E8F0FE;\n",
              "      border: none;\n",
              "      border-radius: 50%;\n",
              "      cursor: pointer;\n",
              "      display: none;\n",
              "      fill: #1967D2;\n",
              "      height: 32px;\n",
              "      padding: 0 0 0 0;\n",
              "      width: 32px;\n",
              "    }\n",
              "\n",
              "    .colab-df-convert:hover {\n",
              "      background-color: #E2EBFA;\n",
              "      box-shadow: 0px 1px 2px rgba(60, 64, 67, 0.3), 0px 1px 3px 1px rgba(60, 64, 67, 0.15);\n",
              "      fill: #174EA6;\n",
              "    }\n",
              "\n",
              "    [theme=dark] .colab-df-convert {\n",
              "      background-color: #3B4455;\n",
              "      fill: #D2E3FC;\n",
              "    }\n",
              "\n",
              "    [theme=dark] .colab-df-convert:hover {\n",
              "      background-color: #434B5C;\n",
              "      box-shadow: 0px 1px 3px 1px rgba(0, 0, 0, 0.15);\n",
              "      filter: drop-shadow(0px 1px 2px rgba(0, 0, 0, 0.3));\n",
              "      fill: #FFFFFF;\n",
              "    }\n",
              "  </style>\n",
              "\n",
              "      <script>\n",
              "        const buttonEl =\n",
              "          document.querySelector('#df-345d9591-9d05-41f7-9f4e-d39264bcdc03 button.colab-df-convert');\n",
              "        buttonEl.style.display =\n",
              "          google.colab.kernel.accessAllowed ? 'block' : 'none';\n",
              "\n",
              "        async function convertToInteractive(key) {\n",
              "          const element = document.querySelector('#df-345d9591-9d05-41f7-9f4e-d39264bcdc03');\n",
              "          const dataTable =\n",
              "            await google.colab.kernel.invokeFunction('convertToInteractive',\n",
              "                                                     [key], {});\n",
              "          if (!dataTable) return;\n",
              "\n",
              "          const docLinkHtml = 'Like what you see? Visit the ' +\n",
              "            '<a target=\"_blank\" href=https://colab.research.google.com/notebooks/data_table.ipynb>data table notebook</a>'\n",
              "            + ' to learn more about interactive tables.';\n",
              "          element.innerHTML = '';\n",
              "          dataTable['output_type'] = 'display_data';\n",
              "          await google.colab.output.renderOutput(dataTable, element);\n",
              "          const docLink = document.createElement('div');\n",
              "          docLink.innerHTML = docLinkHtml;\n",
              "          element.appendChild(docLink);\n",
              "        }\n",
              "      </script>\n",
              "    </div>\n",
              "  </div>\n",
              "  "
            ]
          },
          "metadata": {},
          "execution_count": 10
        }
      ],
      "source": [
        "data = dataset.drop(columns=\"adj_close\")\n",
        "data.head()"
      ]
    },
    {
      "cell_type": "code",
      "execution_count": null,
      "metadata": {
        "id": "Fa2w52mAfklo"
      },
      "outputs": [],
      "source": [
        "dataset.info()"
      ]
    },
    {
      "cell_type": "code",
      "execution_count": null,
      "metadata": {
        "id": "neo0m24kfklo",
        "scrolled": true
      },
      "outputs": [],
      "source": [
        "# getting the list of all companies \n",
        "companies = dataset.Name.unique()\n",
        "companies"
      ]
    },
    {
      "cell_type": "code",
      "execution_count": null,
      "metadata": {
        "id": "kdYVQR8Xfklo"
      },
      "outputs": [],
      "source": [
        "# since AAL company is used for training, we are creating a new dataframe with AAL parameters\n",
        "stock = dataset.loc[dataset['Name'] == 'DIS']\n",
        "stock.info()"
      ]
    },
    {
      "cell_type": "code",
      "execution_count": null,
      "metadata": {
        "id": "vR_RnBSkfklo"
      },
      "outputs": [],
      "source": [
        "stock.head()"
      ]
    },
    {
      "cell_type": "code",
      "execution_count": null,
      "metadata": {
        "id": "-u2P3nkVfklp"
      },
      "outputs": [],
      "source": [
        "# creating an array with closing prices\n",
        "training_set = stock[['close']] "
      ]
    },
    {
      "cell_type": "code",
      "execution_count": null,
      "metadata": {
        "id": "9qOhC0bdfklp"
      },
      "outputs": [],
      "source": [
        "training_set.head()"
      ]
    },
    {
      "cell_type": "code",
      "execution_count": null,
      "metadata": {
        "id": "vqEtpJe3fklp"
      },
      "outputs": [],
      "source": [
        "training_set['close'].plot()\n",
        "plt.ylabel('Stock Price')\n",
        "plt.xlabel(None)\n",
        "plt.title('Closing Prices of DIS')\n",
        "plt.legend()\n",
        "plt.show()"
      ]
    },
    {
      "cell_type": "code",
      "execution_count": null,
      "metadata": {
        "id": "kBZI4WH2fklp"
      },
      "outputs": [],
      "source": [
        "# normalizing the values\n",
        "from sklearn.preprocessing import MinMaxScaler\n",
        "sc = MinMaxScaler()\n",
        "training_set_scaled = sc.fit_transform(training_set)"
      ]
    },
    {
      "cell_type": "code",
      "execution_count": null,
      "metadata": {
        "id": "JX5P4jxJfklp"
      },
      "outputs": [],
      "source": [
        "training_set_scaled.shape"
      ]
    },
    {
      "cell_type": "markdown",
      "metadata": {
        "id": "nw8HavzBfklp"
      },
      "source": [
        "### In the below cell, we are creating 2 arrays, x_train and y_train.\n",
        "* x_train stores the values of closing prices of past 365(or as specified in timestamp) days\n",
        "* y_train stores the values of closing prices of the present day"
      ]
    },
    {
      "cell_type": "code",
      "execution_count": null,
      "metadata": {
        "id": "jw0tsEl1fklp"
      },
      "outputs": [],
      "source": [
        "x_train = []\n",
        "y_train = []\n",
        "timestamp = 365\n",
        "length = len(training_set)\n",
        "for i in range(timestamp, length):\n",
        "    x_train.append(training_set_scaled[i-timestamp:i, 0])\n",
        "    y_train.append(training_set_scaled[i, 0])\n",
        "    \n",
        "x_train = np.array(x_train)\n",
        "y_train = np.array(y_train)"
      ]
    },
    {
      "cell_type": "code",
      "execution_count": null,
      "metadata": {
        "id": "cQAMGlenfklq"
      },
      "outputs": [],
      "source": [
        "print (x_train[0])\n",
        "print ('\\n')\n",
        "print (y_train[0])"
      ]
    },
    {
      "cell_type": "code",
      "execution_count": null,
      "metadata": {
        "id": "e-TPA_S8fklq"
      },
      "outputs": [],
      "source": [
        "x_train.shape"
      ]
    },
    {
      "cell_type": "code",
      "execution_count": null,
      "metadata": {
        "id": "HrxNmgVKfklq"
      },
      "outputs": [],
      "source": [
        "x_train = np.reshape(x_train, (x_train.shape[0], x_train.shape[1], 1))\n",
        "x_train.shape"
      ]
    },
    {
      "cell_type": "code",
      "source": [
        ""
      ],
      "metadata": {
        "id": "zCOcVNKhlUBQ"
      },
      "execution_count": null,
      "outputs": []
    },
    {
      "cell_type": "code",
      "source": [
        "test_set = dataset.loc[dataset['Name'] == 'AAL']   # change CBS to whatever company from the list\n",
        "test_set = test_set.loc[:, test_set.columns == 'close']"
      ],
      "metadata": {
        "id": "XbEx8hQfBZHO"
      },
      "execution_count": null,
      "outputs": []
    },
    {
      "cell_type": "code",
      "execution_count": null,
      "metadata": {
        "id": "95EUWRCGBceC"
      },
      "outputs": [],
      "source": [
        "# storing the actual stock prices in y_test starting from 60th day as the previous 60 days are used to predict the present day value.\n",
        "y_test = test_set.iloc[timestamp:, 0:].values"
      ]
    },
    {
      "cell_type": "code",
      "source": [
        "# storing all values in a variable for generating an input array for our model \n",
        "closing_price = test_set.iloc[:, 0:].values\n",
        "closing_price_scaled = sc.transform(closing_price)"
      ],
      "metadata": {
        "id": "zEw51GFoBdy8"
      },
      "execution_count": null,
      "outputs": []
    },
    {
      "cell_type": "code",
      "source": [
        "# the model will predict the values on x_test\n",
        "x_test = [] \n",
        "length = len(test_set)\n",
        "\n",
        "for i in range(timestamp, length):\n",
        "    x_test.append(closing_price_scaled[i-timestamp:i, 0])\n",
        "    \n",
        "x_test = np.array(x_test)\n",
        "x_test.shape"
      ],
      "metadata": {
        "id": "bshCNN7FBi19"
      },
      "execution_count": null,
      "outputs": []
    },
    {
      "cell_type": "code",
      "source": [
        "x_test = np.reshape(x_test, (x_test.shape[0], x_test.shape[1], 1))\n",
        "x_test.shape"
      ],
      "metadata": {
        "id": "Ajn_1Id4Bi9q"
      },
      "execution_count": null,
      "outputs": []
    },
    {
      "cell_type": "code",
      "execution_count": null,
      "metadata": {
        "id": "SiHzY2PAQltt"
      },
      "outputs": [],
      "source": [
        "from keras.models import Sequential\n",
        "from keras.layers import LSTM, Dense, Dropout\n",
        "\n",
        "def build_model():\n",
        "  model = Sequential()\n",
        "\n",
        "  model.add(LSTM(units = 92, return_sequences = True, input_shape = (x_train.shape[1], 1)))\n",
        "  \n",
        "\n",
        "  model.add(LSTM(units = 92, return_sequences = True))\n",
        "  \n",
        "\n",
        "  model.add(LSTM(units = 92, return_sequences = True))\n",
        "  \n",
        "\n",
        "  model.add(LSTM(units = 92, return_sequences = False))\n",
        "  \n",
        "\n",
        "  model.add(Dense(units = 1))\n",
        "\n",
        "  model.compile(optimizer = 'adagrad', loss = 'mean_squared_error')\n",
        "  return model\n"
      ]
    },
    {
      "cell_type": "code",
      "execution_count": null,
      "metadata": {
        "id": "g624rQnNulg-"
      },
      "outputs": [],
      "source": [
        "model = build_model()"
      ]
    },
    {
      "cell_type": "code",
      "execution_count": null,
      "metadata": {
        "id": "9BAp9yMAkiz7"
      },
      "outputs": [],
      "source": [
        "model.fit(x_train, y_train, validation_data=(x_test, y_test), epochs=100, batch_size=25)"
      ]
    },
    {
      "cell_type": "markdown",
      "metadata": {
        "id": "ZYudEfo2hJcc"
      },
      "source": [
        "## Now the model is trained. We will test the performance of our model by plotting the predicted stock prices and actual stock prices of other companies"
      ]
    },
    {
      "cell_type": "code",
      "source": [
        "# Predict the stock prices\n",
        "y_predict = model.predict(x_test)\n",
        "predicted_price = sc.inverse_transform(y_predict)"
      ],
      "metadata": {
        "id": "2WXT6Ft9Gb86"
      },
      "execution_count": null,
      "outputs": []
    },
    {
      "cell_type": "code",
      "execution_count": null,
      "metadata": {
        "id": "siJT7G4ofklr"
      },
      "outputs": [],
      "source": [
        "# plotting the results\n",
        "plt.plot(y_test, color = 'blue', label = 'Actual Stock Price')\n",
        "plt.plot(predicted_price, color = 'red', label = 'Predicted Stock Price')\n",
        "plt.title('DIS Stock Price Prediction')\n",
        "plt.xlabel('Time')\n",
        "plt.ylabel('Stock Price')\n",
        "plt.legend()\n",
        "plt.show()"
      ]
    },
    {
      "cell_type": "markdown",
      "metadata": {
        "id": "1YQONOdk4TcX"
      },
      "source": [
        "## Optimizing Performance"
      ]
    },
    {
      "cell_type": "markdown",
      "source": [
        "### - Dropout"
      ],
      "metadata": {
        "id": "Qi1o8ISrNOp2"
      }
    },
    {
      "cell_type": "code",
      "source": [
        "def build_model():\n",
        "  model = Sequential()\n",
        "\n",
        "  model.add(LSTM(units = 92, return_sequences = True, input_shape = (x_train.shape[1], 1)))\n",
        "  model.add(Dropout(0.2))\n",
        "\n",
        "  model.add(LSTM(units = 92, return_sequences = True))\n",
        "  model.add(Dropout(0.2))\n",
        "\n",
        "  model.add(LSTM(units = 92, return_sequences = True))\n",
        "  model.add(Dropout(0.2))\n",
        "\n",
        "  model.add(LSTM(units = 92, return_sequences = False))\n",
        "  model.add(Dropout(0.2))\n",
        "\n",
        "  model.add(Dense(units = 1))\n",
        "\n",
        "  model.compile(optimizer = 'adagrad', loss = 'mean_squared_error')\n",
        "  return model"
      ],
      "metadata": {
        "id": "ndd4j2rSNQJm"
      },
      "execution_count": null,
      "outputs": []
    },
    {
      "cell_type": "code",
      "source": [
        "model = build_model()"
      ],
      "metadata": {
        "id": "oT505cHQNTmp"
      },
      "execution_count": null,
      "outputs": []
    },
    {
      "cell_type": "code",
      "source": [
        "model.fit(x_train, y_train, validation_data=(x_test, y_test), epochs=100, batch_size=25)"
      ],
      "metadata": {
        "id": "wtvf0KPVNTrC"
      },
      "execution_count": null,
      "outputs": []
    },
    {
      "cell_type": "markdown",
      "source": [
        "\n",
        "\n",
        "### - Early Stopping\n",
        "\n"
      ],
      "metadata": {
        "id": "03RIQqhVJ6vP"
      }
    },
    {
      "cell_type": "code",
      "source": [
        "def build_model():\n",
        "  model = Sequential()\n",
        "\n",
        "  model.add(LSTM(units = 92, return_sequences = True, input_shape = (x_train.shape[1], 1)))\n",
        "  model.add(Dropout(0.2))\n",
        "\n",
        "  model.add(LSTM(units = 92, return_sequences = True))\n",
        "  model.add(Dropout(0.2))\n",
        "\n",
        "  model.add(LSTM(units = 92, return_sequences = True))\n",
        "  model.add(Dropout(0.2))\n",
        "\n",
        "  model.add(LSTM(units = 92, return_sequences = False))\n",
        "  model.add(Dropout(0.2))\n",
        "\n",
        "  model.add(Dense(units = 1))\n",
        "\n",
        "  model.compile(optimizer = 'adagrad', loss = 'mean_squared_error')\n",
        "  return model"
      ],
      "metadata": {
        "id": "fqPHwK7uAcr1"
      },
      "execution_count": null,
      "outputs": []
    },
    {
      "cell_type": "code",
      "source": [
        "model = build_model()"
      ],
      "metadata": {
        "id": "4vU1y1ZqAgfh"
      },
      "execution_count": null,
      "outputs": []
    },
    {
      "cell_type": "code",
      "source": [
        "from tensorflow.keras.callbacks import EarlyStopping"
      ],
      "metadata": {
        "id": "Nj-jZ1KQ9eqP"
      },
      "execution_count": null,
      "outputs": []
    },
    {
      "cell_type": "code",
      "source": [
        "callback = EarlyStopping(\n",
        "    monitor='val_loss',\n",
        "    min_delta=0.00001,\n",
        "    patience=20,\n",
        "    verbose=1,\n",
        "    mode='auto',\n",
        "    baseline=None,\n",
        "    restore_best_weights=False\n",
        ")"
      ],
      "metadata": {
        "id": "QiiLuv-_-sxT"
      },
      "execution_count": null,
      "outputs": []
    },
    {
      "cell_type": "code",
      "source": [
        "model.fit(x_train, y_train, validation_data=(x_test, y_test), epochs=100, batch_size=25, callbacks=callback)"
      ],
      "metadata": {
        "id": "USF7x22T_V2P"
      },
      "execution_count": null,
      "outputs": []
    },
    {
      "cell_type": "markdown",
      "source": [
        "### - Activation Function"
      ],
      "metadata": {
        "id": "RjhNPWXITMBi"
      }
    },
    {
      "cell_type": "code",
      "source": [
        "def build_model():\n",
        "  model = Sequential()\n",
        "\n",
        "  model.add(LSTM(units = 92, return_sequences = True, input_shape = (x_train.shape[1], 1)))\n",
        "  model.add(Dropout(0.2))\n",
        "\n",
        "  model.add(LSTM(units = 92, return_sequences = True))\n",
        "  model.add(Dropout(0.2))\n",
        "\n",
        "  model.add(LSTM(units = 92, return_sequences = True))\n",
        "  model.add(Dropout(0.2))\n",
        "\n",
        "  model.add(LSTM(units = 92, return_sequences = False))\n",
        "  model.add(Dropout(0.2))\n",
        "\n",
        "  model.add(Dense(units = 1))\n",
        "\n",
        "  model.compile(optimizer = 'adam', loss = 'mean_squared_error')\n",
        "  return model"
      ],
      "metadata": {
        "id": "-7KCQg6aTQYD"
      },
      "execution_count": null,
      "outputs": []
    },
    {
      "cell_type": "code",
      "source": [
        "model = build_model()"
      ],
      "metadata": {
        "id": "5OfXGyhwTWAI",
        "colab": {
          "base_uri": "https://localhost:8080/",
          "height": 294
        },
        "outputId": "84c9854f-5cc9-4cc6-f157-491fda3c4aee"
      },
      "execution_count": null,
      "outputs": [
        {
          "output_type": "error",
          "ename": "NameError",
          "evalue": "ignored",
          "traceback": [
            "\u001b[0;31m---------------------------------------------------------------------------\u001b[0m",
            "\u001b[0;31mNameError\u001b[0m                                 Traceback (most recent call last)",
            "\u001b[0;32m<ipython-input-12-671884cecb64>\u001b[0m in \u001b[0;36m<module>\u001b[0;34m()\u001b[0m\n\u001b[0;32m----> 1\u001b[0;31m \u001b[0mmodel\u001b[0m \u001b[0;34m=\u001b[0m \u001b[0mbuild_model\u001b[0m\u001b[0;34m(\u001b[0m\u001b[0;34m)\u001b[0m\u001b[0;34m\u001b[0m\u001b[0;34m\u001b[0m\u001b[0m\n\u001b[0m",
            "\u001b[0;32m<ipython-input-11-75dd4a23b02e>\u001b[0m in \u001b[0;36mbuild_model\u001b[0;34m()\u001b[0m\n\u001b[1;32m      1\u001b[0m \u001b[0;32mdef\u001b[0m \u001b[0mbuild_model\u001b[0m\u001b[0;34m(\u001b[0m\u001b[0;34m)\u001b[0m\u001b[0;34m:\u001b[0m\u001b[0;34m\u001b[0m\u001b[0;34m\u001b[0m\u001b[0m\n\u001b[0;32m----> 2\u001b[0;31m   \u001b[0mmodel\u001b[0m \u001b[0;34m=\u001b[0m \u001b[0mSequential\u001b[0m\u001b[0;34m(\u001b[0m\u001b[0;34m)\u001b[0m\u001b[0;34m\u001b[0m\u001b[0;34m\u001b[0m\u001b[0m\n\u001b[0m\u001b[1;32m      3\u001b[0m \u001b[0;34m\u001b[0m\u001b[0m\n\u001b[1;32m      4\u001b[0m   \u001b[0mmodel\u001b[0m\u001b[0;34m.\u001b[0m\u001b[0madd\u001b[0m\u001b[0;34m(\u001b[0m\u001b[0mLSTM\u001b[0m\u001b[0;34m(\u001b[0m\u001b[0munits\u001b[0m \u001b[0;34m=\u001b[0m \u001b[0;36m92\u001b[0m\u001b[0;34m,\u001b[0m \u001b[0mreturn_sequences\u001b[0m \u001b[0;34m=\u001b[0m \u001b[0;32mTrue\u001b[0m\u001b[0;34m,\u001b[0m \u001b[0minput_shape\u001b[0m \u001b[0;34m=\u001b[0m \u001b[0;34m(\u001b[0m\u001b[0mx_train\u001b[0m\u001b[0;34m.\u001b[0m\u001b[0mshape\u001b[0m\u001b[0;34m[\u001b[0m\u001b[0;36m1\u001b[0m\u001b[0;34m]\u001b[0m\u001b[0;34m,\u001b[0m \u001b[0;36m1\u001b[0m\u001b[0;34m)\u001b[0m\u001b[0;34m)\u001b[0m\u001b[0;34m)\u001b[0m\u001b[0;34m\u001b[0m\u001b[0;34m\u001b[0m\u001b[0m\n\u001b[1;32m      5\u001b[0m   \u001b[0mmodel\u001b[0m\u001b[0;34m.\u001b[0m\u001b[0madd\u001b[0m\u001b[0;34m(\u001b[0m\u001b[0mDropout\u001b[0m\u001b[0;34m(\u001b[0m\u001b[0;36m0.2\u001b[0m\u001b[0;34m)\u001b[0m\u001b[0;34m)\u001b[0m\u001b[0;34m\u001b[0m\u001b[0;34m\u001b[0m\u001b[0m\n",
            "\u001b[0;31mNameError\u001b[0m: name 'Sequential' is not defined"
          ]
        }
      ]
    },
    {
      "cell_type": "code",
      "source": [
        "model.fit(x_train, y_train, validation_data=(x_test, y_test), epochs=30, batch_size=25)"
      ],
      "metadata": {
        "id": "WwI3nYZ-TdPI"
      },
      "execution_count": null,
      "outputs": []
    },
    {
      "cell_type": "code",
      "execution_count": null,
      "metadata": {
        "id": "wih7MGkhfklr"
      },
      "outputs": [],
      "source": [
        "model.save('StockPrediction.h5')"
      ]
    },
    {
      "cell_type": "code",
      "execution_count": null,
      "metadata": {
        "id": "6LQah_igjxP1"
      },
      "outputs": [],
      "source": [
        "# model evaluation\n",
        "from keras.models import load_model\n",
        "\n",
        "model = load_model('StockPrediction.h5')\n",
        "\n",
        "####"
      ]
    }
  ],
  "metadata": {
    "accelerator": "GPU",
    "colab": {
      "collapsed_sections": [],
      "name": "lstm-stock-price-movement-prediction.ipynb",
      "provenance": []
    },
    "kernelspec": {
      "display_name": "Python 3",
      "language": "python",
      "name": "python3"
    },
    "language_info": {
      "codemirror_mode": {
        "name": "ipython",
        "version": 3
      },
      "file_extension": ".py",
      "mimetype": "text/x-python",
      "name": "python",
      "nbconvert_exporter": "python",
      "pygments_lexer": "ipython3",
      "version": "3.6.4"
    }
  },
  "nbformat": 4,
  "nbformat_minor": 0
}