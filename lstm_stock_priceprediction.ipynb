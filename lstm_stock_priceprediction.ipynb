{
 "cells": [
  {
   "cell_type": "markdown",
   "id": "9036a75a",
   "metadata": {},
   "source": [
    "### We are using LSTM model to predict the movement of closing price. The similar approach can also be applied to other columns such as start price.\n",
    "### Take AMZN as an example. The model is trained based on the AMZN data. We make a prediction about the future price with the data of past 90 days, since it is a time series problem."
   ]
  },
  {
   "cell_type": "code",
   "execution_count": 1,
   "id": "42373303",
   "metadata": {},
   "outputs": [],
   "source": [
    "import numpy as np\n",
    "import pandas as pd\n",
    "import matplotlib.pyplot as plt"
   ]
  },
  {
   "cell_type": "code",
   "execution_count": 2,
   "id": "adc20b71",
   "metadata": {},
   "outputs": [
    {
     "data": {
      "text/html": [
       "<div>\n",
       "<style scoped>\n",
       "    .dataframe tbody tr th:only-of-type {\n",
       "        vertical-align: middle;\n",
       "    }\n",
       "\n",
       "    .dataframe tbody tr th {\n",
       "        vertical-align: top;\n",
       "    }\n",
       "\n",
       "    .dataframe thead th {\n",
       "        text-align: right;\n",
       "    }\n",
       "</style>\n",
       "<table border=\"1\" class=\"dataframe\">\n",
       "  <thead>\n",
       "    <tr style=\"text-align: right;\">\n",
       "      <th></th>\n",
       "      <th>date</th>\n",
       "      <th>open</th>\n",
       "      <th>high</th>\n",
       "      <th>low</th>\n",
       "      <th>close</th>\n",
       "      <th>volume</th>\n",
       "      <th>adj_close</th>\n",
       "      <th>name</th>\n",
       "    </tr>\n",
       "  </thead>\n",
       "  <tbody>\n",
       "    <tr>\n",
       "      <th>0</th>\n",
       "      <td>2017-05-30</td>\n",
       "      <td>48.580002</td>\n",
       "      <td>47.790001</td>\n",
       "      <td>48.320000</td>\n",
       "      <td>47.959999</td>\n",
       "      <td>5512900.0</td>\n",
       "      <td>46.548439</td>\n",
       "      <td>AAL</td>\n",
       "    </tr>\n",
       "    <tr>\n",
       "      <th>1</th>\n",
       "      <td>2017-05-31</td>\n",
       "      <td>48.480000</td>\n",
       "      <td>47.529999</td>\n",
       "      <td>48.200001</td>\n",
       "      <td>48.410000</td>\n",
       "      <td>4486100.0</td>\n",
       "      <td>46.985199</td>\n",
       "      <td>AAL</td>\n",
       "    </tr>\n",
       "    <tr>\n",
       "      <th>2</th>\n",
       "      <td>2017-06-01</td>\n",
       "      <td>49.360001</td>\n",
       "      <td>48.299999</td>\n",
       "      <td>48.500000</td>\n",
       "      <td>49.049999</td>\n",
       "      <td>4421400.0</td>\n",
       "      <td>47.606354</td>\n",
       "      <td>AAL</td>\n",
       "    </tr>\n",
       "    <tr>\n",
       "      <th>3</th>\n",
       "      <td>2017-06-02</td>\n",
       "      <td>50.470001</td>\n",
       "      <td>49.369999</td>\n",
       "      <td>49.560001</td>\n",
       "      <td>49.520000</td>\n",
       "      <td>7708600.0</td>\n",
       "      <td>48.062527</td>\n",
       "      <td>AAL</td>\n",
       "    </tr>\n",
       "    <tr>\n",
       "      <th>4</th>\n",
       "      <td>2017-06-05</td>\n",
       "      <td>49.950001</td>\n",
       "      <td>49.400002</td>\n",
       "      <td>49.529999</td>\n",
       "      <td>49.740002</td>\n",
       "      <td>5466700.0</td>\n",
       "      <td>48.276051</td>\n",
       "      <td>AAL</td>\n",
       "    </tr>\n",
       "    <tr>\n",
       "      <th>5</th>\n",
       "      <td>2017-06-06</td>\n",
       "      <td>50.099998</td>\n",
       "      <td>49.320000</td>\n",
       "      <td>49.470001</td>\n",
       "      <td>49.740002</td>\n",
       "      <td>4473500.0</td>\n",
       "      <td>48.276051</td>\n",
       "      <td>AAL</td>\n",
       "    </tr>\n",
       "    <tr>\n",
       "      <th>6</th>\n",
       "      <td>2017-06-07</td>\n",
       "      <td>50.910000</td>\n",
       "      <td>48.799999</td>\n",
       "      <td>49.439999</td>\n",
       "      <td>50.860001</td>\n",
       "      <td>7078400.0</td>\n",
       "      <td>49.363087</td>\n",
       "      <td>AAL</td>\n",
       "    </tr>\n",
       "    <tr>\n",
       "      <th>7</th>\n",
       "      <td>2017-06-08</td>\n",
       "      <td>51.869999</td>\n",
       "      <td>50.410000</td>\n",
       "      <td>50.860001</td>\n",
       "      <td>51.430000</td>\n",
       "      <td>6544300.0</td>\n",
       "      <td>49.916313</td>\n",
       "      <td>AAL</td>\n",
       "    </tr>\n",
       "    <tr>\n",
       "      <th>8</th>\n",
       "      <td>2017-06-09</td>\n",
       "      <td>51.950001</td>\n",
       "      <td>50.250000</td>\n",
       "      <td>51.610001</td>\n",
       "      <td>50.270000</td>\n",
       "      <td>7204300.0</td>\n",
       "      <td>48.790455</td>\n",
       "      <td>AAL</td>\n",
       "    </tr>\n",
       "    <tr>\n",
       "      <th>9</th>\n",
       "      <td>2017-06-12</td>\n",
       "      <td>50.220001</td>\n",
       "      <td>48.099998</td>\n",
       "      <td>50.099998</td>\n",
       "      <td>49.480000</td>\n",
       "      <td>8597900.0</td>\n",
       "      <td>48.023705</td>\n",
       "      <td>AAL</td>\n",
       "    </tr>\n",
       "  </tbody>\n",
       "</table>\n",
       "</div>"
      ],
      "text/plain": [
       "         date       open       high        low      close     volume  \\\n",
       "0  2017-05-30  48.580002  47.790001  48.320000  47.959999  5512900.0   \n",
       "1  2017-05-31  48.480000  47.529999  48.200001  48.410000  4486100.0   \n",
       "2  2017-06-01  49.360001  48.299999  48.500000  49.049999  4421400.0   \n",
       "3  2017-06-02  50.470001  49.369999  49.560001  49.520000  7708600.0   \n",
       "4  2017-06-05  49.950001  49.400002  49.529999  49.740002  5466700.0   \n",
       "5  2017-06-06  50.099998  49.320000  49.470001  49.740002  4473500.0   \n",
       "6  2017-06-07  50.910000  48.799999  49.439999  50.860001  7078400.0   \n",
       "7  2017-06-08  51.869999  50.410000  50.860001  51.430000  6544300.0   \n",
       "8  2017-06-09  51.950001  50.250000  51.610001  50.270000  7204300.0   \n",
       "9  2017-06-12  50.220001  48.099998  50.099998  49.480000  8597900.0   \n",
       "\n",
       "   adj_close name  \n",
       "0  46.548439  AAL  \n",
       "1  46.985199  AAL  \n",
       "2  47.606354  AAL  \n",
       "3  48.062527  AAL  \n",
       "4  48.276051  AAL  \n",
       "5  48.276051  AAL  \n",
       "6  49.363087  AAL  \n",
       "7  49.916313  AAL  \n",
       "8  48.790455  AAL  \n",
       "9  48.023705  AAL  "
      ]
     },
     "execution_count": 2,
     "metadata": {},
     "output_type": "execute_result"
    }
   ],
   "source": [
    "df = pd.read_csv('stocks_in_recent_5_years.csv')\n",
    "df.head(10)"
   ]
  },
  {
   "cell_type": "code",
   "execution_count": 3,
   "id": "a1128a70",
   "metadata": {},
   "outputs": [
    {
     "name": "stdout",
     "output_type": "stream",
     "text": [
      "<class 'pandas.core.frame.DataFrame'>\n",
      "RangeIndex: 622537 entries, 0 to 622536\n",
      "Data columns (total 8 columns):\n",
      " #   Column     Non-Null Count   Dtype  \n",
      "---  ------     --------------   -----  \n",
      " 0   date       622537 non-null  object \n",
      " 1   open       622537 non-null  float64\n",
      " 2   high       622537 non-null  float64\n",
      " 3   low        622537 non-null  float64\n",
      " 4   close      622537 non-null  float64\n",
      " 5   volume     622537 non-null  float64\n",
      " 6   adj_close  622537 non-null  float64\n",
      " 7   name       622537 non-null  object \n",
      "dtypes: float64(6), object(2)\n",
      "memory usage: 38.0+ MB\n"
     ]
    }
   ],
   "source": [
    "df.info()"
   ]
  },
  {
   "cell_type": "code",
   "execution_count": 5,
   "id": "db410d87",
   "metadata": {},
   "outputs": [
    {
     "data": {
      "text/plain": [
       "array(['AAL', 'AAPL', 'AAP', 'ABBV', 'ABC', 'ABMD', 'ABT', 'ACN', 'ADBE',\n",
       "       'ADI', 'ADM', 'ADP', 'ADSK', 'AEE', 'AEP', 'AES', 'AFL', 'AIG',\n",
       "       'AIZ', 'AJG', 'AKAM', 'ALB', 'ALGN', 'ALK', 'ALLE', 'ALL', 'AMAT',\n",
       "       'AMCR', 'AMD', 'AME', 'AMGN', 'AMP', 'AMT', 'AMZN', 'ANET', 'ANSS',\n",
       "       'ANTM', 'AON', 'AOS', 'APA', 'APD', 'APH', 'APTV', 'ARE', 'ATO',\n",
       "       'ATVI', 'AVB', 'AVGO', 'AVY', 'AWK', 'AXP', 'AZO', 'A', 'BAC',\n",
       "       'BAX', 'BA', 'BBWI', 'BBY', 'BDX', 'BEN', 'BIIB', 'BIO', 'BKNG',\n",
       "       'BKR', 'BK', 'BLK', 'BLL', 'BMY', 'BRO', 'BR', 'BSX', 'BWA', 'BXP',\n",
       "       'CAG', 'CAH', 'CARR', 'CAT', 'CBOE', 'CBRE', 'CB', 'CCI', 'CCL',\n",
       "       'CDAY', 'CDNS', 'CDW', 'CERN', 'CE', 'CFG', 'CF', 'CHD', 'CHRW',\n",
       "       'CHTR', 'CINF', 'CI', 'CLX', 'CL', 'CMA', 'CMCSA', 'CME', 'CMG',\n",
       "       'CMI', 'CMS', 'CNC', 'CNP', 'COF', 'COO', 'COP', 'COST', 'CPB',\n",
       "       'CPRT', 'CRL', 'CRM', 'CSCO', 'CSX', 'CTAS', 'CTLT', 'CTRA',\n",
       "       'CTSH', 'CTVA', 'CTXS', 'CVS', 'CVX', 'CZR', 'C', 'DAL', 'DD',\n",
       "       'DE', 'DFS', 'DGX', 'DG', 'DHI', 'DHR', 'DISCA', 'DISCK', 'DISH',\n",
       "       'DIS', 'DLR', 'DLTR', 'DOV', 'DOW', 'DPZ', 'DRE', 'DRI', 'DTE',\n",
       "       'DUK', 'DVA', 'DVN', 'DXCM', 'DXC', 'D', 'EA', 'EBAY', 'ECL', 'ED',\n",
       "       'EFX', 'EIX', 'EL', 'EMN', 'EMR', 'ENPH', 'EOG', 'EQIX', 'EQR',\n",
       "       'ESS', 'ES', 'ETN', 'ETR', 'ETSY', 'EVRG', 'EW', 'EXC', 'EXPD',\n",
       "       'EXPE', 'EXR', 'FANG', 'FAST', 'FBHS', 'FB', 'FCX', 'FDX', 'FE',\n",
       "       'FFIV', 'FISV', 'FIS', 'FITB', 'FLT', 'FMC', 'FOXA', 'FOX', 'FRC',\n",
       "       'FRT', 'FTNT', 'FTV', 'F', 'GD', 'GE', 'GILD', 'GIS', 'GLW', 'GL',\n",
       "       'GM', 'GNRC', 'GOOGL', 'GOOG', 'GPC', 'GPN', 'GPS', 'GRMN', 'GS',\n",
       "       'GWW', 'HAL', 'HAS', 'HBAN', 'HBI', 'HCA', 'HD', 'HES', 'HIG',\n",
       "       'HII', 'HLT', 'HOLX', 'HON', 'HPE', 'HPQ', 'HRL', 'HSIC', 'HST',\n",
       "       'HSY', 'HUM', 'HWM', 'IBM', 'ICE', 'IDXX', 'IEX', 'IFF', 'ILMN',\n",
       "       'INCY', 'INTC', 'INTU', 'IPGP', 'IPG', 'IP', 'IQV', 'IRM', 'IR',\n",
       "       'ISRG', 'ITW', 'IT', 'IVZ', 'JBHT', 'JCI', 'JKHY', 'JNJ', 'JNPR',\n",
       "       'JPM', 'J', 'KEYS', 'KEY', 'KHC', 'KIM', 'KLAC', 'KMB', 'KMI',\n",
       "       'KMX', 'KO', 'KR', 'K', 'LDOS', 'LEG', 'LEN', 'LHX', 'LH', 'LIN',\n",
       "       'LKQ', 'LLY', 'LMT', 'LNC', 'LNT', 'LOW', 'LRCX', 'LUMN', 'LUV',\n",
       "       'LVS', 'LW', 'LYB', 'LYV', 'L', 'MAA', 'MAR', 'MAS', 'MA', 'MCD',\n",
       "       'MCHP', 'MCK', 'MCO', 'MDLZ', 'MDT', 'MET', 'MGM', 'MHK', 'MKC',\n",
       "       'MKTX', 'MLM', 'MMC', 'MMM', 'MNST', 'MOS', 'MO', 'MPC', 'MPWR',\n",
       "       'MRK', 'MRNA', 'MRO', 'MSCI', 'MSFT', 'MSI', 'MS', 'MTB', 'MTCH',\n",
       "       'MTD', 'MU', 'NCLH', 'NDAQ', 'NEE', 'NEM', 'NFLX', 'NI', 'NKE',\n",
       "       'NLOK', 'NLSN', 'NOC', 'NOW', 'NRG', 'NSC', 'NTAP', 'NTRS', 'NUE',\n",
       "       'NVDA', 'NVR', 'NWL', 'NWSA', 'NWS', 'NXPI', 'ODFL', 'OGN', 'OKE',\n",
       "       'OMC', 'ORCL', 'ORLY', 'OTIS', 'OXY', 'O', 'PAYC', 'PAYX', 'PBCT',\n",
       "       'PCAR', 'PEAK', 'PEG', 'PENN', 'PEP', 'PFE', 'PFG', 'PGR', 'PG',\n",
       "       'PHM', 'PH', 'PKG', 'PKI', 'PLD', 'PM', 'PNC', 'PNR', 'PNW',\n",
       "       'POOL', 'PPG', 'PPL', 'PRU', 'PSA', 'PSX', 'PTC', 'PVH', 'PWR',\n",
       "       'PXD', 'PYPL', 'QCOM', 'QRVO', 'RCL', 'REGN', 'REG', 'RE', 'RF',\n",
       "       'RHI', 'RJF', 'RL', 'RMD', 'ROK', 'ROL', 'ROP', 'ROST', 'RSG',\n",
       "       'RTX', 'SBAC', 'SBUX', 'SCHW', 'SEE', 'SHW', 'SIVB', 'SJM', 'SLB',\n",
       "       'SNA', 'SNPS', 'SO', 'SPGI', 'SPG', 'SRE', 'STE', 'STT', 'STX',\n",
       "       'STZ', 'SWKS', 'SWK', 'SYF', 'SYK', 'SYY', 'TAP', 'TDG', 'TDY',\n",
       "       'TECH', 'TEL', 'TER', 'TFC', 'TFX', 'TGT', 'TJX', 'TMO', 'TMUS',\n",
       "       'TPR', 'TRMB', 'TROW', 'TRV', 'TSCO', 'TSLA', 'TSN', 'TTWO', 'TT',\n",
       "       'TWTR', 'TXN', 'TXT', 'TYL', 'T', 'UAA', 'UAL', 'UA', 'UDR', 'UHS',\n",
       "       'ULTA', 'UNH', 'UNP', 'UPS', 'URI', 'USB', 'VFC', 'VLO', 'VMC',\n",
       "       'VNO', 'VRSK', 'VRSN', 'VRTX', 'VTRS', 'VTR', 'VZ', 'V', 'WAB',\n",
       "       'WAT', 'WBA', 'WDC', 'WEC', 'WELL', 'WFC', 'WHR', 'WMB', 'WMT',\n",
       "       'WM', 'WRB', 'WRK', 'WST', 'WU', 'WYNN', 'WY', 'XEL', 'XOM',\n",
       "       'XRAY', 'XYL', 'YUM', 'ZBH', 'ZBRA', 'ZION', 'ZTS'], dtype=object)"
      ]
     },
     "execution_count": 5,
     "metadata": {},
     "output_type": "execute_result"
    }
   ],
   "source": [
    "companies = df.name.unique()\n",
    "companies"
   ]
  },
  {
   "cell_type": "code",
   "execution_count": 6,
   "id": "7ebbbe6f",
   "metadata": {},
   "outputs": [
    {
     "name": "stdout",
     "output_type": "stream",
     "text": [
      "<class 'pandas.core.frame.DataFrame'>\n",
      "Int64Index: 1260 entries, 168635 to 169894\n",
      "Data columns (total 8 columns):\n",
      " #   Column     Non-Null Count  Dtype  \n",
      "---  ------     --------------  -----  \n",
      " 0   date       1260 non-null   object \n",
      " 1   open       1260 non-null   float64\n",
      " 2   high       1260 non-null   float64\n",
      " 3   low        1260 non-null   float64\n",
      " 4   close      1260 non-null   float64\n",
      " 5   volume     1260 non-null   float64\n",
      " 6   adj_close  1260 non-null   float64\n",
      " 7   name       1260 non-null   object \n",
      "dtypes: float64(6), object(2)\n",
      "memory usage: 88.6+ KB\n"
     ]
    }
   ],
   "source": [
    "# Create a new dataframe with AMZN parameters\n",
    "stock = df.loc[df['name']=='DIS']\n",
    "stock.info()"
   ]
  },
  {
   "cell_type": "code",
   "execution_count": 7,
   "id": "6d6aa1e0",
   "metadata": {},
   "outputs": [
    {
     "data": {
      "text/html": [
       "<div>\n",
       "<style scoped>\n",
       "    .dataframe tbody tr th:only-of-type {\n",
       "        vertical-align: middle;\n",
       "    }\n",
       "\n",
       "    .dataframe tbody tr th {\n",
       "        vertical-align: top;\n",
       "    }\n",
       "\n",
       "    .dataframe thead th {\n",
       "        text-align: right;\n",
       "    }\n",
       "</style>\n",
       "<table border=\"1\" class=\"dataframe\">\n",
       "  <thead>\n",
       "    <tr style=\"text-align: right;\">\n",
       "      <th></th>\n",
       "      <th>date</th>\n",
       "      <th>open</th>\n",
       "      <th>high</th>\n",
       "      <th>low</th>\n",
       "      <th>close</th>\n",
       "      <th>volume</th>\n",
       "      <th>adj_close</th>\n",
       "      <th>name</th>\n",
       "    </tr>\n",
       "  </thead>\n",
       "  <tbody>\n",
       "    <tr>\n",
       "      <th>168635</th>\n",
       "      <td>2017-05-30</td>\n",
       "      <td>108.599998</td>\n",
       "      <td>107.949997</td>\n",
       "      <td>108.489998</td>\n",
       "      <td>108.339996</td>\n",
       "      <td>4813400.0</td>\n",
       "      <td>103.748573</td>\n",
       "      <td>DIS</td>\n",
       "    </tr>\n",
       "    <tr>\n",
       "      <th>168636</th>\n",
       "      <td>2017-05-31</td>\n",
       "      <td>108.650002</td>\n",
       "      <td>107.639999</td>\n",
       "      <td>108.400002</td>\n",
       "      <td>107.940002</td>\n",
       "      <td>9963600.0</td>\n",
       "      <td>103.365532</td>\n",
       "      <td>DIS</td>\n",
       "    </tr>\n",
       "    <tr>\n",
       "      <th>168637</th>\n",
       "      <td>2017-06-01</td>\n",
       "      <td>108.209999</td>\n",
       "      <td>107.169998</td>\n",
       "      <td>107.730003</td>\n",
       "      <td>108.209999</td>\n",
       "      <td>5907400.0</td>\n",
       "      <td>103.624084</td>\n",
       "      <td>DIS</td>\n",
       "    </tr>\n",
       "    <tr>\n",
       "      <th>168638</th>\n",
       "      <td>2017-06-02</td>\n",
       "      <td>108.639999</td>\n",
       "      <td>106.949997</td>\n",
       "      <td>108.459999</td>\n",
       "      <td>107.180000</td>\n",
       "      <td>10876900.0</td>\n",
       "      <td>102.637733</td>\n",
       "      <td>DIS</td>\n",
       "    </tr>\n",
       "    <tr>\n",
       "      <th>168639</th>\n",
       "      <td>2017-06-05</td>\n",
       "      <td>107.220001</td>\n",
       "      <td>106.110001</td>\n",
       "      <td>107.040001</td>\n",
       "      <td>106.519997</td>\n",
       "      <td>6372800.0</td>\n",
       "      <td>102.005707</td>\n",
       "      <td>DIS</td>\n",
       "    </tr>\n",
       "  </tbody>\n",
       "</table>\n",
       "</div>"
      ],
      "text/plain": [
       "              date        open        high         low       close  \\\n",
       "168635  2017-05-30  108.599998  107.949997  108.489998  108.339996   \n",
       "168636  2017-05-31  108.650002  107.639999  108.400002  107.940002   \n",
       "168637  2017-06-01  108.209999  107.169998  107.730003  108.209999   \n",
       "168638  2017-06-02  108.639999  106.949997  108.459999  107.180000   \n",
       "168639  2017-06-05  107.220001  106.110001  107.040001  106.519997   \n",
       "\n",
       "            volume   adj_close name  \n",
       "168635   4813400.0  103.748573  DIS  \n",
       "168636   9963600.0  103.365532  DIS  \n",
       "168637   5907400.0  103.624084  DIS  \n",
       "168638  10876900.0  102.637733  DIS  \n",
       "168639   6372800.0  102.005707  DIS  "
      ]
     },
     "execution_count": 7,
     "metadata": {},
     "output_type": "execute_result"
    }
   ],
   "source": [
    "stock.head()"
   ]
  },
  {
   "cell_type": "code",
   "execution_count": 8,
   "id": "ce7310bb",
   "metadata": {},
   "outputs": [
    {
     "data": {
      "text/html": [
       "<div>\n",
       "<style scoped>\n",
       "    .dataframe tbody tr th:only-of-type {\n",
       "        vertical-align: middle;\n",
       "    }\n",
       "\n",
       "    .dataframe tbody tr th {\n",
       "        vertical-align: top;\n",
       "    }\n",
       "\n",
       "    .dataframe thead th {\n",
       "        text-align: right;\n",
       "    }\n",
       "</style>\n",
       "<table border=\"1\" class=\"dataframe\">\n",
       "  <thead>\n",
       "    <tr style=\"text-align: right;\">\n",
       "      <th></th>\n",
       "      <th>close</th>\n",
       "    </tr>\n",
       "  </thead>\n",
       "  <tbody>\n",
       "    <tr>\n",
       "      <th>168635</th>\n",
       "      <td>108.339996</td>\n",
       "    </tr>\n",
       "    <tr>\n",
       "      <th>168636</th>\n",
       "      <td>107.940002</td>\n",
       "    </tr>\n",
       "    <tr>\n",
       "      <th>168637</th>\n",
       "      <td>108.209999</td>\n",
       "    </tr>\n",
       "    <tr>\n",
       "      <th>168638</th>\n",
       "      <td>107.180000</td>\n",
       "    </tr>\n",
       "    <tr>\n",
       "      <th>168639</th>\n",
       "      <td>106.519997</td>\n",
       "    </tr>\n",
       "  </tbody>\n",
       "</table>\n",
       "</div>"
      ],
      "text/plain": [
       "             close\n",
       "168635  108.339996\n",
       "168636  107.940002\n",
       "168637  108.209999\n",
       "168638  107.180000\n",
       "168639  106.519997"
      ]
     },
     "execution_count": 8,
     "metadata": {},
     "output_type": "execute_result"
    }
   ],
   "source": [
    "# A closing prices array\n",
    "training_set = stock[['close']]\n",
    "training_set.head()"
   ]
  },
  {
   "cell_type": "code",
   "execution_count": 27,
   "id": "61a43fb9",
   "metadata": {},
   "outputs": [
    {
     "data": {
      "image/png": "[encoded data removed]",
      "text/plain": [
       "<Figure size 432x288 with 1 Axes>"
      ]
     },
     "metadata": {
      "needs_background": "light"
     },
     "output_type": "display_data"
    }
   ],
   "source": [
    "# Show 90 days training data\n",
    "training_set_y = stock['close'][-90:][::3].tolist()\n",
    "training_set_x = stock['date'][-90:][::3].tolist()\n",
    "plt.plot(training_set_x, training_set_y)\n",
    "plt.tick_params(axis='x', labelsize=10, rotation=90)\n",
    "plt.tight_layout()\n",
    "plt.ylabel('Stock Price')\n",
    "plt.xlabel(None)\n",
    "plt.show()"
   ]
  },
  {
   "cell_type": "code",
   "execution_count": 23,
   "id": "1b97fc41",
   "metadata": {},
   "outputs": [
    {
     "data": {
      "text/plain": [
       "(1260, 1)"
      ]
     },
     "execution_count": 23,
     "metadata": {},
     "output_type": "execute_result"
    }
   ],
   "source": [
    "# normalizing the values\n",
    "from sklearn.preprocessing import MinMaxScaler\n",
    "sc = MinMaxScaler()\n",
    "scaled_training_set = sc.fit_transform(training_set)\n",
    "scaled_training_set.shape"
   ]
  },
  {
   "cell_type": "markdown",
   "id": "d4afabf0",
   "metadata": {},
   "source": [
    "### Create x_train and y_train.\n",
    "* x_train: values of closing prices of past 365 days\n",
    "* y_train: values of closing prices of the present day"
   ]
  },
  {
   "cell_type": "code",
   "execution_count": 28,
   "id": "46139a93",
   "metadata": {},
   "outputs": [],
   "source": [
    "x_train = []\n",
    "y_train = []\n",
    "timestamp = 365\n",
    "length = len(training_set)\n",
    "for i in range(timestamp, length):\n",
    "    x_train.append(scaled_training_set[i-timestamp:i, 0])\n",
    "    y_train.append(scaled_training_set[i, 0])\n",
    "    \n",
    "x_train = np.array(x_train)\n",
    "y_train = np.array(y_train)"
   ]
  },
  {
   "cell_type": "code",
   "execution_count": 29,
   "id": "826bc2a2",
   "metadata": {},
   "outputs": [
    {
     "name": "stdout",
     "output_type": "stream",
     "text": [
      "[0.19440374 0.19095997 0.19328452 0.18441668 0.17873435 0.16995263\n",
      " 0.17356862 0.15979335 0.1709858  0.18321135 0.17907874 0.17546274\n",
      " 0.17408524 0.17003874 0.16883341 0.15652174 0.16392596 0.15893241\n",
      " 0.16013774 0.17055529 0.1691778  0.18166163 0.17176063 0.17640979\n",
      " 0.18682735 0.17107185 0.15144207 0.15118379 0.15350834 0.15566073\n",
      " 0.1603099  0.15953507 0.16642268 0.16383985 0.17210502 0.18131724\n",
      " 0.18596641 0.18364179 0.18286696 0.1778734  0.18235041 0.20869563\n",
      " 0.20835124 0.20809296 0.21394747 0.19724491 0.20111924 0.18880758\n",
      " 0.17727074 0.1826948  0.14696513 0.13422295 0.13973307 0.13465346\n",
      " 0.13560051 0.14154106 0.13448123 0.12862673 0.13267323 0.14644851\n",
      " 0.1355144  0.13568656 0.14334913 0.14464051 0.14472662 0.14730952\n",
      " 0.13293151 0.1355144  0.13637534 0.1355144  0.09728795 0.09737406\n",
      " 0.09754623 0.1044339  0.11244079 0.10452001 0.10985789 0.1062419\n",
      " 0.10908307 0.11579851 0.11304345 0.11054667 0.11889795 0.11080495\n",
      " 0.11605678 0.10581146 0.1102884  0.12139473 0.12940162 0.12733535\n",
      " 0.12354712 0.12320273 0.11889795 0.11898407 0.11011624 0.09616873\n",
      " 0.100043   0.10650017 0.1084804  0.10753334 0.11407662 0.11743435\n",
      " 0.11140762 0.10787773 0.10365907 0.11020228 0.10804989 0.10572534\n",
      " 0.10374512 0.11424879 0.10839428 0.11089106 0.12811018 0.13646146\n",
      " 0.13275935 0.14567368 0.16375374 0.16340935 0.14989234 0.15436935\n",
      " 0.15359446 0.15221696 0.14627635 0.14842874 0.14619023 0.14532929\n",
      " 0.14662074 0.15195869 0.16771412 0.16409813 0.16780024 0.21058974\n",
      " 0.18476107 0.16960824 0.16788635 0.15901852 0.18140335 0.18656907\n",
      " 0.1881188  0.21360308 0.21962974 0.21756346 0.22427891 0.20602669\n",
      " 0.20499352 0.19724491 0.19250969 0.18837707 0.18949629 0.18725785\n",
      " 0.22419286 0.22832541 0.22789497 0.22264314 0.20886779 0.20817908\n",
      " 0.20413258 0.21721907 0.22996125 0.21463625 0.22565647 0.21231163\n",
      " 0.21377524 0.21816613 0.21222558 0.21300041 0.21343091 0.22755058\n",
      " 0.22195436 0.20964269 0.19724491 0.2129143  0.19750318 0.16306496\n",
      " 0.17572101 0.16358157 0.13422295 0.14920356 0.15178646 0.15807146\n",
      " 0.16220401 0.16719757 0.17882046 0.17408524 0.16607835 0.16771412\n",
      " 0.18501935 0.20705979 0.16452863 0.1498063  0.14472662 0.14834262\n",
      " 0.15195869 0.1651313  0.15350834 0.15729657 0.1633233  0.16711146\n",
      " 0.15471374 0.15617735 0.15049501 0.14730952 0.13534224 0.13422295\n",
      " 0.13826946 0.12776579 0.11003012 0.12819629 0.11708996 0.11003012\n",
      " 0.12638829 0.11106329 0.11760651 0.13077912 0.14076624 0.1256134\n",
      " 0.12001717 0.13439518 0.12948774 0.12595779 0.1256134  0.12466634\n",
      " 0.14128279 0.13301762 0.13026257 0.12466634 0.12389151 0.1179509\n",
      " 0.13250107 0.12122251 0.11597074 0.12544124 0.12311662 0.11932846\n",
      " 0.11192423 0.13250107 0.1439518  0.13801118 0.12234179 0.13706412\n",
      " 0.14042185 0.1436074  0.14773996 0.16599224 0.15996551 0.15643563\n",
      " 0.15755484 0.15764096 0.14748168 0.14076624 0.14154106 0.11993112\n",
      " 0.1224279  0.11803701 0.11708996 0.12466634 0.12208351 0.13904435\n",
      " 0.14386568 0.15686613 0.16005162 0.15987946 0.17692635 0.19793369\n",
      " 0.19879463 0.18338351 0.17511835 0.18415841 0.17331035 0.17718462\n",
      " 0.16091257 0.1592768  0.1566939  0.16366762 0.16401201 0.16848902\n",
      " 0.15738268 0.16857507 0.16375374 0.17442957 0.17451568 0.19182091\n",
      " 0.19362891 0.20869563 0.21041752 0.21127852 0.21463625 0.22703396\n",
      " 0.2214378  0.21808002 0.21472229 0.21885491 0.23891519 0.23125269\n",
      " 0.23133874 0.23934563 0.23426602 0.23237191 0.24390869 0.25983642\n",
      " 0.2651743  0.24296169 0.24451142 0.23176925 0.22694791 0.23237191\n",
      " 0.23323285 0.23004736 0.23004736 0.22582863 0.22927247 0.22539819\n",
      " 0.22591474 0.22531208 0.22875591 0.2309083  0.22978902 0.22522596\n",
      " 0.22608691 0.21601374 0.20757641 0.21093413 0.21704691 0.21455013\n",
      " 0.2052518  0.20404646 0.21446402 0.20232458 0.20318552 0.20464913\n",
      " 0.20688763 0.22264314 0.21213947 0.23254407 0.2399483  0.25355141\n",
      " 0.26069736 0.26844597 0.26241925 0.27464487 0.2681877  0.26147219\n",
      " 0.2498493  0.26052513 0.26801547 0.23331897 0.21859663 0.23116658\n",
      " 0.23831253 0.26198881 0.27008175 0.26190269 0.2853207  0.27989663\n",
      " 0.27628064 0.22255702 0.24451142 0.23616014 0.23486869 0.24967714\n",
      " 0.2502798  0.26121391 0.25329314 0.25561769 0.26646575]\n",
      "\n",
      "\n",
      "0.26939303060237785\n"
     ]
    }
   ],
   "source": [
    "print (x_train[0])\n",
    "print ('\\n')\n",
    "print (y_train[0])"
   ]
  },
  {
   "cell_type": "code",
   "execution_count": 30,
   "id": "1c53ebc3",
   "metadata": {},
   "outputs": [
    {
     "data": {
      "text/plain": [
       "(895, 365)"
      ]
     },
     "execution_count": 30,
     "metadata": {},
     "output_type": "execute_result"
    }
   ],
   "source": [
    "x_train.shape"
   ]
  },
  {
   "cell_type": "code",
   "execution_count": 31,
   "id": "49821953",
   "metadata": {},
   "outputs": [
    {
     "data": {
      "text/plain": [
       "(895, 365, 1)"
      ]
     },
     "execution_count": 31,
     "metadata": {},
     "output_type": "execute_result"
    }
   ],
   "source": [
    "x_train = np.reshape(x_train, (x_train.shape[0], x_train.shape[1], 1))\n",
    "x_train.shape"
   ]
  },
  {
   "cell_type": "code",
   "execution_count": null,
   "id": "d375f783",
   "metadata": {},
   "outputs": [],
   "source": [
    "from keras.models import Sequential\n",
    "from keras.layers import LSTM, Dense, Dropout\n",
    "\n",
    "model = Sequential()\n",
    "\n",
    "model.add(LSTM(units = 92, return_sequences = True, input_shape = (x_train.shape[1], 1)))\n",
    "model.add(Dropout(0.2))\n",
    "\n",
    "model.add(LSTM(units = 92, return_sequences = True))\n",
    "model.add(Dropout(0.2))\n",
    "\n",
    "model.add(LSTM(units = 92, return_sequences = True))\n",
    "model.add(Dropout(0.2))\n",
    "\n",
    "model.add(LSTM(units = 92, return_sequences = False))\n",
    "model.add(Dropout(0.2))\n",
    "\n",
    "model.add(Dense(units = 1))\n",
    "model.compile(optimizer = 'adam', loss = 'mean_squared_error')"
   ]
  },
  {
   "cell_type": "code",
   "execution_count": null,
   "id": "150ad189",
   "metadata": {},
   "outputs": [],
   "source": []
  },
  {
   "cell_type": "code",
   "execution_count": null,
   "id": "5d70ac47",
   "metadata": {},
   "outputs": [],
   "source": []
  }
 ],
 "metadata": {
  "kernelspec": {
   "display_name": "Python 3 (ipykernel)",
   "language": "python",
   "name": "python3"
  },
  "language_info": {
   "codemirror_mode": {
    "name": "ipython",
    "version": 3
   },
   "file_extension": ".py",
   "mimetype": "text/x-python",
   "name": "python",
   "nbconvert_exporter": "python",
   "pygments_lexer": "ipython3",
   "version": "3.7.13"
  }
 },
 "nbformat": 4,
 "nbformat_minor": 5
}
