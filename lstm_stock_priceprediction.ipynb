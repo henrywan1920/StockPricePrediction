{
 "cells": [
  {
   "cell_type": "markdown",
   "id": "9036a75a",
   "metadata": {},
   "source": [
    "### We are using LSTM model to predict the movement of closing price. The similar approach can also be applied to other columns such as start price.\n",
    "### Take AAL as an example. The model is trained based on the AAL data. We make a prediction about the future price with the data of past 90 days, since it is a time series problem."
   ]
  },
  {
   "cell_type": "code",
   "execution_count": 1,
   "id": "42373303",
   "metadata": {},
   "outputs": [],
   "source": [
    "import numpy as np\n",
    "import pandas as pd\n",
    "import matplotlib.pyplot as plt"
   ]
  },
  {
   "cell_type": "code",
   "execution_count": 2,
   "id": "adc20b71",
   "metadata": {},
   "outputs": [
    {
     "data": {
      "text/html": [
       "<div>\n",
       "<style scoped>\n",
       "    .dataframe tbody tr th:only-of-type {\n",
       "        vertical-align: middle;\n",
       "    }\n",
       "\n",
       "    .dataframe tbody tr th {\n",
       "        vertical-align: top;\n",
       "    }\n",
       "\n",
       "    .dataframe thead th {\n",
       "        text-align: right;\n",
       "    }\n",
       "</style>\n",
       "<table border=\"1\" class=\"dataframe\">\n",
       "  <thead>\n",
       "    <tr style=\"text-align: right;\">\n",
       "      <th></th>\n",
       "      <th>date</th>\n",
       "      <th>open</th>\n",
       "      <th>high</th>\n",
       "      <th>low</th>\n",
       "      <th>close</th>\n",
       "      <th>volume</th>\n",
       "      <th>adj_close</th>\n",
       "      <th>name</th>\n",
       "    </tr>\n",
       "  </thead>\n",
       "  <tbody>\n",
       "    <tr>\n",
       "      <th>0</th>\n",
       "      <td>2017-05-30</td>\n",
       "      <td>48.580002</td>\n",
       "      <td>47.790001</td>\n",
       "      <td>48.320000</td>\n",
       "      <td>47.959999</td>\n",
       "      <td>5512900.0</td>\n",
       "      <td>46.548439</td>\n",
       "      <td>AAL</td>\n",
       "    </tr>\n",
       "    <tr>\n",
       "      <th>1</th>\n",
       "      <td>2017-05-31</td>\n",
       "      <td>48.480000</td>\n",
       "      <td>47.529999</td>\n",
       "      <td>48.200001</td>\n",
       "      <td>48.410000</td>\n",
       "      <td>4486100.0</td>\n",
       "      <td>46.985199</td>\n",
       "      <td>AAL</td>\n",
       "    </tr>\n",
       "    <tr>\n",
       "      <th>2</th>\n",
       "      <td>2017-06-01</td>\n",
       "      <td>49.360001</td>\n",
       "      <td>48.299999</td>\n",
       "      <td>48.500000</td>\n",
       "      <td>49.049999</td>\n",
       "      <td>4421400.0</td>\n",
       "      <td>47.606354</td>\n",
       "      <td>AAL</td>\n",
       "    </tr>\n",
       "    <tr>\n",
       "      <th>3</th>\n",
       "      <td>2017-06-02</td>\n",
       "      <td>50.470001</td>\n",
       "      <td>49.369999</td>\n",
       "      <td>49.560001</td>\n",
       "      <td>49.520000</td>\n",
       "      <td>7708600.0</td>\n",
       "      <td>48.062527</td>\n",
       "      <td>AAL</td>\n",
       "    </tr>\n",
       "    <tr>\n",
       "      <th>4</th>\n",
       "      <td>2017-06-05</td>\n",
       "      <td>49.950001</td>\n",
       "      <td>49.400002</td>\n",
       "      <td>49.529999</td>\n",
       "      <td>49.740002</td>\n",
       "      <td>5466700.0</td>\n",
       "      <td>48.276051</td>\n",
       "      <td>AAL</td>\n",
       "    </tr>\n",
       "  </tbody>\n",
       "</table>\n",
       "</div>"
      ],
      "text/plain": [
       "         date       open       high        low      close     volume  \\\n",
       "0  2017-05-30  48.580002  47.790001  48.320000  47.959999  5512900.0   \n",
       "1  2017-05-31  48.480000  47.529999  48.200001  48.410000  4486100.0   \n",
       "2  2017-06-01  49.360001  48.299999  48.500000  49.049999  4421400.0   \n",
       "3  2017-06-02  50.470001  49.369999  49.560001  49.520000  7708600.0   \n",
       "4  2017-06-05  49.950001  49.400002  49.529999  49.740002  5466700.0   \n",
       "\n",
       "   adj_close name  \n",
       "0  46.548439  AAL  \n",
       "1  46.985199  AAL  \n",
       "2  47.606354  AAL  \n",
       "3  48.062527  AAL  \n",
       "4  48.276051  AAL  "
      ]
     },
     "execution_count": 2,
     "metadata": {},
     "output_type": "execute_result"
    }
   ],
   "source": [
    "df = pd.read_csv('stocks_in_recent_5_years.csv')\n",
    "df.head()"
   ]
  },
  {
   "cell_type": "code",
   "execution_count": 3,
   "id": "a1128a70",
   "metadata": {},
   "outputs": [
    {
     "name": "stdout",
     "output_type": "stream",
     "text": [
      "<class 'pandas.core.frame.DataFrame'>\n",
      "RangeIndex: 622537 entries, 0 to 622536\n",
      "Data columns (total 8 columns):\n",
      " #   Column     Non-Null Count   Dtype  \n",
      "---  ------     --------------   -----  \n",
      " 0   date       622537 non-null  object \n",
      " 1   open       622537 non-null  float64\n",
      " 2   high       622537 non-null  float64\n",
      " 3   low        622537 non-null  float64\n",
      " 4   close      622537 non-null  float64\n",
      " 5   volume     622537 non-null  float64\n",
      " 6   adj_close  622537 non-null  float64\n",
      " 7   name       622537 non-null  object \n",
      "dtypes: float64(6), object(2)\n",
      "memory usage: 38.0+ MB\n"
     ]
    }
   ],
   "source": [
    "df.info()"
   ]
  },
  {
   "cell_type": "code",
   "execution_count": 4,
   "id": "db410d87",
   "metadata": {},
   "outputs": [
    {
     "data": {
      "text/plain": [
       "array(['AAL', 'AAPL', 'AAP', 'ABBV', 'ABC', 'ABMD', 'ABT', 'ACN', 'ADBE',\n",
       "       'ADI', 'ADM', 'ADP', 'ADSK', 'AEE', 'AEP', 'AES', 'AFL', 'AIG',\n",
       "       'AIZ', 'AJG', 'AKAM', 'ALB', 'ALGN', 'ALK', 'ALLE', 'ALL', 'AMAT',\n",
       "       'AMCR', 'AMD', 'AME', 'AMGN', 'AMP', 'AMT', 'AMZN', 'ANET', 'ANSS',\n",
       "       'ANTM', 'AON', 'AOS', 'APA', 'APD', 'APH', 'APTV', 'ARE', 'ATO',\n",
       "       'ATVI', 'AVB', 'AVGO', 'AVY', 'AWK', 'AXP', 'AZO', 'A', 'BAC',\n",
       "       'BAX', 'BA', 'BBWI', 'BBY', 'BDX', 'BEN', 'BIIB', 'BIO', 'BKNG',\n",
       "       'BKR', 'BK', 'BLK', 'BLL', 'BMY', 'BRO', 'BR', 'BSX', 'BWA', 'BXP',\n",
       "       'CAG', 'CAH', 'CARR', 'CAT', 'CBOE', 'CBRE', 'CB', 'CCI', 'CCL',\n",
       "       'CDAY', 'CDNS', 'CDW', 'CERN', 'CE', 'CFG', 'CF', 'CHD', 'CHRW',\n",
       "       'CHTR', 'CINF', 'CI', 'CLX', 'CL', 'CMA', 'CMCSA', 'CME', 'CMG',\n",
       "       'CMI', 'CMS', 'CNC', 'CNP', 'COF', 'COO', 'COP', 'COST', 'CPB',\n",
       "       'CPRT', 'CRL', 'CRM', 'CSCO', 'CSX', 'CTAS', 'CTLT', 'CTRA',\n",
       "       'CTSH', 'CTVA', 'CTXS', 'CVS', 'CVX', 'CZR', 'C', 'DAL', 'DD',\n",
       "       'DE', 'DFS', 'DGX', 'DG', 'DHI', 'DHR', 'DISCA', 'DISCK', 'DISH',\n",
       "       'DIS', 'DLR', 'DLTR', 'DOV', 'DOW', 'DPZ', 'DRE', 'DRI', 'DTE',\n",
       "       'DUK', 'DVA', 'DVN', 'DXCM', 'DXC', 'D', 'EA', 'EBAY', 'ECL', 'ED',\n",
       "       'EFX', 'EIX', 'EL', 'EMN', 'EMR', 'ENPH', 'EOG', 'EQIX', 'EQR',\n",
       "       'ESS', 'ES', 'ETN', 'ETR', 'ETSY', 'EVRG', 'EW', 'EXC', 'EXPD',\n",
       "       'EXPE', 'EXR', 'FANG', 'FAST', 'FBHS', 'FB', 'FCX', 'FDX', 'FE',\n",
       "       'FFIV', 'FISV', 'FIS', 'FITB', 'FLT', 'FMC', 'FOXA', 'FOX', 'FRC',\n",
       "       'FRT', 'FTNT', 'FTV', 'F', 'GD', 'GE', 'GILD', 'GIS', 'GLW', 'GL',\n",
       "       'GM', 'GNRC', 'GOOGL', 'GOOG', 'GPC', 'GPN', 'GPS', 'GRMN', 'GS',\n",
       "       'GWW', 'HAL', 'HAS', 'HBAN', 'HBI', 'HCA', 'HD', 'HES', 'HIG',\n",
       "       'HII', 'HLT', 'HOLX', 'HON', 'HPE', 'HPQ', 'HRL', 'HSIC', 'HST',\n",
       "       'HSY', 'HUM', 'HWM', 'IBM', 'ICE', 'IDXX', 'IEX', 'IFF', 'ILMN',\n",
       "       'INCY', 'INTC', 'INTU', 'IPGP', 'IPG', 'IP', 'IQV', 'IRM', 'IR',\n",
       "       'ISRG', 'ITW', 'IT', 'IVZ', 'JBHT', 'JCI', 'JKHY', 'JNJ', 'JNPR',\n",
       "       'JPM', 'J', 'KEYS', 'KEY', 'KHC', 'KIM', 'KLAC', 'KMB', 'KMI',\n",
       "       'KMX', 'KO', 'KR', 'K', 'LDOS', 'LEG', 'LEN', 'LHX', 'LH', 'LIN',\n",
       "       'LKQ', 'LLY', 'LMT', 'LNC', 'LNT', 'LOW', 'LRCX', 'LUMN', 'LUV',\n",
       "       'LVS', 'LW', 'LYB', 'LYV', 'L', 'MAA', 'MAR', 'MAS', 'MA', 'MCD',\n",
       "       'MCHP', 'MCK', 'MCO', 'MDLZ', 'MDT', 'MET', 'MGM', 'MHK', 'MKC',\n",
       "       'MKTX', 'MLM', 'MMC', 'MMM', 'MNST', 'MOS', 'MO', 'MPC', 'MPWR',\n",
       "       'MRK', 'MRNA', 'MRO', 'MSCI', 'MSFT', 'MSI', 'MS', 'MTB', 'MTCH',\n",
       "       'MTD', 'MU', 'NCLH', 'NDAQ', 'NEE', 'NEM', 'NFLX', 'NI', 'NKE',\n",
       "       'NLOK', 'NLSN', 'NOC', 'NOW', 'NRG', 'NSC', 'NTAP', 'NTRS', 'NUE',\n",
       "       'NVDA', 'NVR', 'NWL', 'NWSA', 'NWS', 'NXPI', 'ODFL', 'OGN', 'OKE',\n",
       "       'OMC', 'ORCL', 'ORLY', 'OTIS', 'OXY', 'O', 'PAYC', 'PAYX', 'PBCT',\n",
       "       'PCAR', 'PEAK', 'PEG', 'PENN', 'PEP', 'PFE', 'PFG', 'PGR', 'PG',\n",
       "       'PHM', 'PH', 'PKG', 'PKI', 'PLD', 'PM', 'PNC', 'PNR', 'PNW',\n",
       "       'POOL', 'PPG', 'PPL', 'PRU', 'PSA', 'PSX', 'PTC', 'PVH', 'PWR',\n",
       "       'PXD', 'PYPL', 'QCOM', 'QRVO', 'RCL', 'REGN', 'REG', 'RE', 'RF',\n",
       "       'RHI', 'RJF', 'RL', 'RMD', 'ROK', 'ROL', 'ROP', 'ROST', 'RSG',\n",
       "       'RTX', 'SBAC', 'SBUX', 'SCHW', 'SEE', 'SHW', 'SIVB', 'SJM', 'SLB',\n",
       "       'SNA', 'SNPS', 'SO', 'SPGI', 'SPG', 'SRE', 'STE', 'STT', 'STX',\n",
       "       'STZ', 'SWKS', 'SWK', 'SYF', 'SYK', 'SYY', 'TAP', 'TDG', 'TDY',\n",
       "       'TECH', 'TEL', 'TER', 'TFC', 'TFX', 'TGT', 'TJX', 'TMO', 'TMUS',\n",
       "       'TPR', 'TRMB', 'TROW', 'TRV', 'TSCO', 'TSLA', 'TSN', 'TTWO', 'TT',\n",
       "       'TWTR', 'TXN', 'TXT', 'TYL', 'T', 'UAA', 'UAL', 'UA', 'UDR', 'UHS',\n",
       "       'ULTA', 'UNH', 'UNP', 'UPS', 'URI', 'USB', 'VFC', 'VLO', 'VMC',\n",
       "       'VNO', 'VRSK', 'VRSN', 'VRTX', 'VTRS', 'VTR', 'VZ', 'V', 'WAB',\n",
       "       'WAT', 'WBA', 'WDC', 'WEC', 'WELL', 'WFC', 'WHR', 'WMB', 'WMT',\n",
       "       'WM', 'WRB', 'WRK', 'WST', 'WU', 'WYNN', 'WY', 'XEL', 'XOM',\n",
       "       'XRAY', 'XYL', 'YUM', 'ZBH', 'ZBRA', 'ZION', 'ZTS'], dtype=object)"
      ]
     },
     "execution_count": 4,
     "metadata": {},
     "output_type": "execute_result"
    }
   ],
   "source": [
    "companies = df.name.unique()\n",
    "companies"
   ]
  },
  {
   "cell_type": "code",
   "execution_count": 5,
   "id": "7ebbbe6f",
   "metadata": {},
   "outputs": [
    {
     "name": "stdout",
     "output_type": "stream",
     "text": [
      "<class 'pandas.core.frame.DataFrame'>\n",
      "Int64Index: 1260 entries, 0 to 1259\n",
      "Data columns (total 8 columns):\n",
      " #   Column     Non-Null Count  Dtype  \n",
      "---  ------     --------------  -----  \n",
      " 0   date       1260 non-null   object \n",
      " 1   open       1260 non-null   float64\n",
      " 2   high       1260 non-null   float64\n",
      " 3   low        1260 non-null   float64\n",
      " 4   close      1260 non-null   float64\n",
      " 5   volume     1260 non-null   float64\n",
      " 6   adj_close  1260 non-null   float64\n",
      " 7   name       1260 non-null   object \n",
      "dtypes: float64(6), object(2)\n",
      "memory usage: 88.6+ KB\n"
     ]
    }
   ],
   "source": [
    "# Create a new dataframe with AAL parameters\n",
    "stock = df.loc[df['name']=='AAL']\n",
    "stock.info()"
   ]
  },
  {
   "cell_type": "code",
   "execution_count": 6,
   "id": "6d6aa1e0",
   "metadata": {},
   "outputs": [
    {
     "data": {
      "text/html": [
       "<div>\n",
       "<style scoped>\n",
       "    .dataframe tbody tr th:only-of-type {\n",
       "        vertical-align: middle;\n",
       "    }\n",
       "\n",
       "    .dataframe tbody tr th {\n",
       "        vertical-align: top;\n",
       "    }\n",
       "\n",
       "    .dataframe thead th {\n",
       "        text-align: right;\n",
       "    }\n",
       "</style>\n",
       "<table border=\"1\" class=\"dataframe\">\n",
       "  <thead>\n",
       "    <tr style=\"text-align: right;\">\n",
       "      <th></th>\n",
       "      <th>date</th>\n",
       "      <th>open</th>\n",
       "      <th>high</th>\n",
       "      <th>low</th>\n",
       "      <th>close</th>\n",
       "      <th>volume</th>\n",
       "      <th>adj_close</th>\n",
       "      <th>name</th>\n",
       "    </tr>\n",
       "  </thead>\n",
       "  <tbody>\n",
       "    <tr>\n",
       "      <th>0</th>\n",
       "      <td>2017-05-30</td>\n",
       "      <td>48.580002</td>\n",
       "      <td>47.790001</td>\n",
       "      <td>48.320000</td>\n",
       "      <td>47.959999</td>\n",
       "      <td>5512900.0</td>\n",
       "      <td>46.548439</td>\n",
       "      <td>AAL</td>\n",
       "    </tr>\n",
       "    <tr>\n",
       "      <th>1</th>\n",
       "      <td>2017-05-31</td>\n",
       "      <td>48.480000</td>\n",
       "      <td>47.529999</td>\n",
       "      <td>48.200001</td>\n",
       "      <td>48.410000</td>\n",
       "      <td>4486100.0</td>\n",
       "      <td>46.985199</td>\n",
       "      <td>AAL</td>\n",
       "    </tr>\n",
       "    <tr>\n",
       "      <th>2</th>\n",
       "      <td>2017-06-01</td>\n",
       "      <td>49.360001</td>\n",
       "      <td>48.299999</td>\n",
       "      <td>48.500000</td>\n",
       "      <td>49.049999</td>\n",
       "      <td>4421400.0</td>\n",
       "      <td>47.606354</td>\n",
       "      <td>AAL</td>\n",
       "    </tr>\n",
       "    <tr>\n",
       "      <th>3</th>\n",
       "      <td>2017-06-02</td>\n",
       "      <td>50.470001</td>\n",
       "      <td>49.369999</td>\n",
       "      <td>49.560001</td>\n",
       "      <td>49.520000</td>\n",
       "      <td>7708600.0</td>\n",
       "      <td>48.062527</td>\n",
       "      <td>AAL</td>\n",
       "    </tr>\n",
       "    <tr>\n",
       "      <th>4</th>\n",
       "      <td>2017-06-05</td>\n",
       "      <td>49.950001</td>\n",
       "      <td>49.400002</td>\n",
       "      <td>49.529999</td>\n",
       "      <td>49.740002</td>\n",
       "      <td>5466700.0</td>\n",
       "      <td>48.276051</td>\n",
       "      <td>AAL</td>\n",
       "    </tr>\n",
       "  </tbody>\n",
       "</table>\n",
       "</div>"
      ],
      "text/plain": [
       "         date       open       high        low      close     volume  \\\n",
       "0  2017-05-30  48.580002  47.790001  48.320000  47.959999  5512900.0   \n",
       "1  2017-05-31  48.480000  47.529999  48.200001  48.410000  4486100.0   \n",
       "2  2017-06-01  49.360001  48.299999  48.500000  49.049999  4421400.0   \n",
       "3  2017-06-02  50.470001  49.369999  49.560001  49.520000  7708600.0   \n",
       "4  2017-06-05  49.950001  49.400002  49.529999  49.740002  5466700.0   \n",
       "\n",
       "   adj_close name  \n",
       "0  46.548439  AAL  \n",
       "1  46.985199  AAL  \n",
       "2  47.606354  AAL  \n",
       "3  48.062527  AAL  \n",
       "4  48.276051  AAL  "
      ]
     },
     "execution_count": 6,
     "metadata": {},
     "output_type": "execute_result"
    }
   ],
   "source": [
    "stock.head()"
   ]
  },
  {
   "cell_type": "code",
   "execution_count": 7,
   "id": "ce7310bb",
   "metadata": {},
   "outputs": [],
   "source": [
    "# A closing prices array\n",
    "training_set = stock.iloc[:, 4:5].values"
   ]
  },
  {
   "cell_type": "code",
   "execution_count": 8,
   "id": "61a43fb9",
   "metadata": {},
   "outputs": [
    {
     "data": {
      "image/png": "[encoded data removed]",
      "text/plain": [
       "<Figure size 432x288 with 1 Axes>"
      ]
     },
     "metadata": {
      "needs_background": "light"
     },
     "output_type": "display_data"
    }
   ],
   "source": [
    "# Show 90 days training data\n",
    "training_set_y = stock['close'][-90:][::3].tolist()\n",
    "training_set_x = stock['date'][-90:][::3].tolist()\n",
    "plt.plot(training_set_x, training_set_y)\n",
    "plt.tick_params(axis='x', labelsize=10, rotation=90)\n",
    "plt.tight_layout()\n",
    "plt.ylabel('Stock Price')\n",
    "plt.xlabel(None)\n",
    "plt.show()"
   ]
  },
  {
   "cell_type": "code",
   "execution_count": 9,
   "id": "1b97fc41",
   "metadata": {},
   "outputs": [
    {
     "data": {
      "text/plain": [
       "(1260, 1)"
      ]
     },
     "execution_count": 9,
     "metadata": {},
     "output_type": "execute_result"
    }
   ],
   "source": [
    "# normalizing the values\n",
    "from sklearn.preprocessing import MinMaxScaler\n",
    "scaler = MinMaxScaler()\n",
    "scaled_training_set = scaler.fit_transform(training_set)\n",
    "scaled_training_set.shape"
   ]
  },
  {
   "cell_type": "markdown",
   "id": "d4afabf0",
   "metadata": {},
   "source": [
    "### Create x_train and y_train.\n",
    "* x_train: values of closing prices of past 365 days\n",
    "* y_train: values of closing prices of the present day"
   ]
  },
  {
   "cell_type": "code",
   "execution_count": 10,
   "id": "46139a93",
   "metadata": {},
   "outputs": [],
   "source": [
    "x_train = []\n",
    "y_train = []\n",
    "timestamp = 90\n",
    "length = len(training_set)\n",
    "for i in range(timestamp, length):\n",
    "    x_train.append(scaled_training_set[i-timestamp:i, 0])\n",
    "    y_train.append(scaled_training_set[i, 0])\n",
    "    \n",
    "x_train = np.array(x_train)\n",
    "y_train = np.array(y_train)"
   ]
  },
  {
   "cell_type": "code",
   "execution_count": 11,
   "id": "826bc2a2",
   "metadata": {},
   "outputs": [
    {
     "name": "stdout",
     "output_type": "stream",
     "text": [
      "[0.78737605 0.79647985 0.80942744 0.81893586 0.82338662 0.82338662\n",
      " 0.8460449  0.85757636 0.83410883 0.81812661 0.81751972 0.81630585\n",
      " 0.8106413  0.80416751 0.82176813 0.78879219 0.79688447 0.80780903\n",
      " 0.80093061 0.80396516 0.79830061 0.81347358 0.82095889 0.83512035\n",
      " 0.83653648 0.85413711 0.87011932 0.88994533 0.88246002 0.86121788\n",
      " 0.90552292 0.90572527 0.91401983 0.90693906 0.89237306 0.8814485\n",
      " 0.87598622 0.86728705 0.85454173 0.84098725 0.84907945 0.82864655\n",
      " 0.83855959 0.837548   0.85009104 0.83775035 0.83977338 0.84483104\n",
      " 0.84038035 0.82864655 0.8165082  0.79931212 0.79526598 0.80457213\n",
      " 0.79870523 0.79647985 0.74833093 0.73862024 0.74185714 0.73578796\n",
      " 0.70665588 0.68541366 0.73255106 0.72648189 0.71859196 0.71373657\n",
      " 0.72223348 0.73376493 0.70564429 0.7135343  0.70402588 0.6991705\n",
      " 0.74489176 0.75359094 0.76795466 0.75156783 0.74772404 0.73376493\n",
      " 0.71495044 0.73599023 0.75359094 0.76916853 0.78211612 0.77968847\n",
      " 0.76492004 0.77786771 0.77786771 0.78272301 0.83896414 0.8434149 ]\n",
      "\n",
      "\n",
      "0.8399757304073328\n"
     ]
    }
   ],
   "source": [
    "print (x_train[0])\n",
    "print ('\\n')\n",
    "print (y_train[0])"
   ]
  },
  {
   "cell_type": "code",
   "execution_count": 12,
   "id": "1c53ebc3",
   "metadata": {},
   "outputs": [
    {
     "data": {
      "text/plain": [
       "(1170, 90)"
      ]
     },
     "execution_count": 12,
     "metadata": {},
     "output_type": "execute_result"
    }
   ],
   "source": [
    "x_train.shape"
   ]
  },
  {
   "cell_type": "code",
   "execution_count": 13,
   "id": "49821953",
   "metadata": {},
   "outputs": [
    {
     "data": {
      "text/plain": [
       "(1170, 90, 1)"
      ]
     },
     "execution_count": 13,
     "metadata": {},
     "output_type": "execute_result"
    }
   ],
   "source": [
    "x_train = np.reshape(x_train, (x_train.shape[0], x_train.shape[1], 1))\n",
    "x_train.shape"
   ]
  },
  {
   "cell_type": "code",
   "execution_count": 14,
   "id": "d375f783",
   "metadata": {},
   "outputs": [
    {
     "name": "stderr",
     "output_type": "stream",
     "text": [
      "2022-05-29 08:25:14.913155: I tensorflow/core/platform/cpu_feature_guard.cc:193] This TensorFlow binary is optimized with oneAPI Deep Neural Network Library (oneDNN) to use the following CPU instructions in performance-critical operations:  AVX2 FMA\n",
      "To enable them in other operations, rebuild TensorFlow with the appropriate compiler flags.\n"
     ]
    }
   ],
   "source": [
    "from keras.models import Sequential\n",
    "from keras.layers import LSTM, Dense, Dropout\n",
    "\n",
    "model = Sequential()\n",
    "\n",
    "model.add(LSTM(units = 92, return_sequences = True, input_shape = (x_train.shape[1], 1)))\n",
    "model.add(Dropout(0.2))\n",
    "\n",
    "model.add(LSTM(units = 92, return_sequences = True))\n",
    "model.add(Dropout(0.2))\n",
    "\n",
    "model.add(LSTM(units = 92, return_sequences = True))\n",
    "model.add(Dropout(0.2))\n",
    "\n",
    "model.add(LSTM(units = 92, return_sequences = False))\n",
    "model.add(Dropout(0.2))\n",
    "\n",
    "model.add(Dense(units = 1))\n",
    "model.compile(optimizer = 'adam', loss = 'mean_squared_error')"
   ]
  },
  {
   "cell_type": "code",
   "execution_count": 15,
   "id": "150ad189",
   "metadata": {},
   "outputs": [
    {
     "name": "stdout",
     "output_type": "stream",
     "text": [
      "Epoch 1/30\n",
      "37/37 [==============================] - 13s 190ms/step - loss: 0.0273\n",
      "Epoch 2/30\n",
      "37/37 [==============================] - 7s 177ms/step - loss: 0.0051\n",
      "Epoch 3/30\n",
      "37/37 [==============================] - 7s 177ms/step - loss: 0.0046\n",
      "Epoch 4/30\n",
      "37/37 [==============================] - 7s 187ms/step - loss: 0.0046\n",
      "Epoch 5/30\n",
      "37/37 [==============================] - 7s 183ms/step - loss: 0.0048\n",
      "Epoch 6/30\n",
      "37/37 [==============================] - 7s 185ms/step - loss: 0.0036\n",
      "Epoch 7/30\n",
      "37/37 [==============================] - 7s 186ms/step - loss: 0.0035\n",
      "Epoch 8/30\n",
      "37/37 [==============================] - 7s 189ms/step - loss: 0.0032\n",
      "Epoch 9/30\n",
      "37/37 [==============================] - 7s 189ms/step - loss: 0.0031\n",
      "Epoch 10/30\n",
      "37/37 [==============================] - 7s 198ms/step - loss: 0.0038\n",
      "Epoch 11/30\n",
      "37/37 [==============================] - 7s 195ms/step - loss: 0.0029\n",
      "Epoch 12/30\n",
      "37/37 [==============================] - 7s 186ms/step - loss: 0.0027\n",
      "Epoch 13/30\n",
      "37/37 [==============================] - 7s 189ms/step - loss: 0.0023\n",
      "Epoch 14/30\n",
      "37/37 [==============================] - 7s 197ms/step - loss: 0.0023\n",
      "Epoch 15/30\n",
      "37/37 [==============================] - 7s 181ms/step - loss: 0.0026\n",
      "Epoch 16/30\n",
      "37/37 [==============================] - 7s 176ms/step - loss: 0.0028\n",
      "Epoch 17/30\n",
      "37/37 [==============================] - 7s 187ms/step - loss: 0.0025\n",
      "Epoch 18/30\n",
      "37/37 [==============================] - 7s 176ms/step - loss: 0.0022\n",
      "Epoch 19/30\n",
      "37/37 [==============================] - 7s 178ms/step - loss: 0.0022\n",
      "Epoch 20/30\n",
      "37/37 [==============================] - 7s 184ms/step - loss: 0.0018\n",
      "Epoch 21/30\n",
      "37/37 [==============================] - 7s 189ms/step - loss: 0.0020\n",
      "Epoch 22/30\n",
      "37/37 [==============================] - 6s 175ms/step - loss: 0.0019\n",
      "Epoch 23/30\n",
      "37/37 [==============================] - 7s 187ms/step - loss: 0.0020\n",
      "Epoch 24/30\n",
      "37/37 [==============================] - 7s 181ms/step - loss: 0.0019\n",
      "Epoch 25/30\n",
      "37/37 [==============================] - 7s 189ms/step - loss: 0.0019\n",
      "Epoch 26/30\n",
      "37/37 [==============================] - 7s 183ms/step - loss: 0.0019\n",
      "Epoch 27/30\n",
      "37/37 [==============================] - 7s 187ms/step - loss: 0.0019\n",
      "Epoch 28/30\n",
      "37/37 [==============================] - 7s 182ms/step - loss: 0.0018\n",
      "Epoch 29/30\n",
      "37/37 [==============================] - 7s 185ms/step - loss: 0.0020\n",
      "Epoch 30/30\n",
      "37/37 [==============================] - 7s 186ms/step - loss: 0.0016\n"
     ]
    },
    {
     "data": {
      "text/plain": [
       "<keras.callbacks.History at 0x7fc673837c50>"
      ]
     },
     "execution_count": 15,
     "metadata": {},
     "output_type": "execute_result"
    }
   ],
   "source": [
    "model.fit(x_train, y_train, epochs = 30, batch_size = 32)"
   ]
  },
  {
   "cell_type": "markdown",
   "id": "e57b9b1e",
   "metadata": {},
   "source": [
    "### Testing the performance of our model by plotting the predicted stock prices"
   ]
  },
  {
   "cell_type": "code",
   "execution_count": 16,
   "id": "43f5e79a",
   "metadata": {},
   "outputs": [],
   "source": [
    "testing_data = df.loc[df['name'] == 'DIS']\n",
    "testing_data = testing_data.loc[:, testing_data.columns == 'close']"
   ]
  },
  {
   "cell_type": "markdown",
   "id": "a811be9c",
   "metadata": {},
   "source": [
    "### Keep the previous 90 days to predict the present day value."
   ]
  },
  {
   "cell_type": "code",
   "execution_count": 17,
   "id": "42a0246f",
   "metadata": {},
   "outputs": [],
   "source": [
    "y_test = testing_data.iloc[timestamp:, 0:].values"
   ]
  },
  {
   "cell_type": "code",
   "execution_count": 18,
   "id": "f9d863ca",
   "metadata": {},
   "outputs": [],
   "source": [
    "closing_price = testing_data.iloc[:, 0:].values\n",
    "scaled_closing_price = scaler.transform(closing_price)"
   ]
  },
  {
   "cell_type": "code",
   "execution_count": 19,
   "id": "2a910d5a",
   "metadata": {},
   "outputs": [
    {
     "data": {
      "text/plain": [
       "(1170, 90)"
      ]
     },
     "execution_count": 19,
     "metadata": {},
     "output_type": "execute_result"
    }
   ],
   "source": [
    "# Get x_test\n",
    "x_test = []  \n",
    "\n",
    "for i in range(timestamp, len(testing_data)):\n",
    "    x_test.append(scaled_closing_price[i-timestamp:i, 0])\n",
    "    \n",
    "x_test = np.array(x_test)\n",
    "x_test.shape"
   ]
  },
  {
   "cell_type": "code",
   "execution_count": 20,
   "id": "67249d05",
   "metadata": {},
   "outputs": [
    {
     "data": {
      "text/plain": [
       "(1170, 90, 1)"
      ]
     },
     "execution_count": 20,
     "metadata": {},
     "output_type": "execute_result"
    }
   ],
   "source": [
    "x_test = np.reshape(x_test, (x_test.shape[0], x_test.shape[1], 1))\n",
    "x_test.shape"
   ]
  },
  {
   "cell_type": "code",
   "execution_count": 21,
   "id": "d311096f",
   "metadata": {},
   "outputs": [
    {
     "name": "stdout",
     "output_type": "stream",
     "text": [
      "37/37 [==============================] - 4s 56ms/step\n"
     ]
    }
   ],
   "source": [
    "# Predict the stock prices\n",
    "y_predict = model.predict(x_test)\n",
    "predicted_price = scaler.inverse_transform(y_predict)"
   ]
  },
  {
   "cell_type": "code",
   "execution_count": 22,
   "id": "0c84b3d0",
   "metadata": {},
   "outputs": [
    {
     "data": {
      "image/png": "[encoded data removed]",
      "text/plain": [
       "<Figure size 432x288 with 1 Axes>"
      ]
     },
     "metadata": {
      "needs_background": "light"
     },
     "output_type": "display_data"
    }
   ],
   "source": [
    "# Show the result (90 days)\n",
    "y_test_damo = y_test[-90:][::3].tolist()\n",
    "x_test_demo = stock['date'][-90:][::3].tolist()\n",
    "predicted_price_demo = predicted_price[-90:][::3].tolist()\n",
    "plt.plot(x_test_demo, y_test_damo, color = 'blue', label = 'Actual Stock Price')\n",
    "plt.plot(x_test_demo, predicted_price_demo, color = 'red', label = 'Predicted Stock Price')\n",
    "plt.tick_params(axis='x', labelsize=10, rotation=90)\n",
    "plt.tight_layout()\n",
    "plt.title('DIS Stock Price Prediction')\n",
    "plt.ylabel('Stock Price')\n",
    "plt.xlabel(None)\n",
    "plt.legend()\n",
    "plt.show()"
   ]
  },
  {
   "cell_type": "code",
   "execution_count": 23,
   "id": "5786564d",
   "metadata": {},
   "outputs": [
    {
     "data": {
      "image/png": "[encoded data removed]",
      "text/plain": [
       "<Figure size 432x288 with 1 Axes>"
      ]
     },
     "metadata": {
      "needs_background": "light"
     },
     "output_type": "display_data"
    }
   ],
   "source": [
    "# Show the result (the most recent month)\n",
    "y_test_damo = y_test[-30:].tolist()\n",
    "x_test_demo = stock['date'][-30:].tolist()\n",
    "predicted_price_demo = predicted_price[-30:].tolist()\n",
    "plt.plot(x_test_demo, y_test_damo, color = 'blue', label = 'Actual Stock Price')\n",
    "plt.plot(x_test_demo, predicted_price_demo, color = 'red', label = 'Predicted Stock Price')\n",
    "plt.tick_params(axis='x', labelsize=10, rotation=90)\n",
    "plt.tight_layout()\n",
    "plt.title('DIS Stock Price Prediction')\n",
    "plt.ylabel('Stock Price')\n",
    "plt.xlabel(None)\n",
    "plt.legend()\n",
    "plt.show()"
   ]
  },
  {
   "cell_type": "code",
   "execution_count": 24,
   "id": "60e351d9",
   "metadata": {},
   "outputs": [],
   "source": [
    "# Save the model\n",
    "model.save('StockPredictionModel.h5')"
   ]
  },
  {
   "cell_type": "code",
   "execution_count": null,
   "id": "3a735640",
   "metadata": {},
   "outputs": [],
   "source": []
  }
 ],
 "metadata": {
  "kernelspec": {
   "display_name": "Python 3 (ipykernel)",
   "language": "python",
   "name": "python3"
  },
  "language_info": {
   "codemirror_mode": {
    "name": "ipython",
    "version": 3
   },
   "file_extension": ".py",
   "mimetype": "text/x-python",
   "name": "python",
   "nbconvert_exporter": "python",
   "pygments_lexer": "ipython3",
   "version": "3.7.13"
  }
 },
 "nbformat": 4,
 "nbformat_minor": 5
}
